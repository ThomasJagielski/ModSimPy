{
 "cells": [
  {
   "cell_type": "markdown",
   "metadata": {},
   "source": [
    "# Orbit Model\n"
   ]
  },
  {
   "cell_type": "markdown",
   "metadata": {},
   "source": [
    "Thomas Jagielski"
   ]
  },
  {
   "cell_type": "code",
   "execution_count": 1,
   "metadata": {},
   "outputs": [],
   "source": [
    "# Configure Jupyter so figures appear in the notebook\n",
    "%matplotlib inline\n",
    "\n",
    "# Configure Jupyter to display the assigned value after an assignment\n",
    "%config InteractiveShell.ast_node_interactivity='last_expr_or_assign'\n",
    "\n",
    "# import functions from the modsim.py module\n",
    "from modsim import *"
   ]
  },
  {
   "cell_type": "code",
   "execution_count": 2,
   "metadata": {},
   "outputs": [
    {
     "data": {
      "text/html": [
       "meter"
      ],
      "text/latex": [
       "$\\mathrm{meter}$"
      ],
      "text/plain": [
       "<Unit('meter')>"
      ]
     },
     "execution_count": 2,
     "metadata": {},
     "output_type": "execute_result"
    }
   ],
   "source": [
    "# Here are the units we'll need\n",
    "\n",
    "s = UNITS.second\n",
    "N = UNITS.newton\n",
    "kg = UNITS.kilogram\n",
    "m = UNITS.meter"
   ]
  },
  {
   "cell_type": "code",
   "execution_count": 3,
   "metadata": {},
   "outputs": [
    {
     "data": {
      "text/html": [
       "<div>\n",
       "<style scoped>\n",
       "    .dataframe tbody tr th:only-of-type {\n",
       "        vertical-align: middle;\n",
       "    }\n",
       "\n",
       "    .dataframe tbody tr th {\n",
       "        vertical-align: top;\n",
       "    }\n",
       "\n",
       "    .dataframe thead th {\n",
       "        text-align: right;\n",
       "    }\n",
       "</style>\n",
       "<table border=\"1\" class=\"dataframe\">\n",
       "  <thead>\n",
       "    <tr style=\"text-align: right;\">\n",
       "      <th></th>\n",
       "      <th>values</th>\n",
       "    </tr>\n",
       "  </thead>\n",
       "  <tbody>\n",
       "    <tr>\n",
       "      <th>x</th>\n",
       "      <td>147000000000.0 meter</td>\n",
       "    </tr>\n",
       "    <tr>\n",
       "      <th>y</th>\n",
       "      <td>0</td>\n",
       "    </tr>\n",
       "    <tr>\n",
       "      <th>vx</th>\n",
       "      <td>0.0 meter / second</td>\n",
       "    </tr>\n",
       "    <tr>\n",
       "      <th>vy</th>\n",
       "      <td>-30330.0 meter / second</td>\n",
       "    </tr>\n",
       "  </tbody>\n",
       "</table>\n",
       "</div>"
      ],
      "text/plain": [
       "x        147000000000.0 meter\n",
       "y                           0\n",
       "vx         0.0 meter / second\n",
       "vy    -30330.0 meter / second\n",
       "dtype: object"
      ]
     },
     "execution_count": 3,
     "metadata": {},
     "output_type": "execute_result"
    }
   ],
   "source": [
    "# And an inition condition (with everything in SI units)\n",
    "\n",
    "r_0 = 147e9 * m\n",
    "\n",
    "init = State(x = r_0, \n",
    "             y = 0, \n",
    "             vx = 0 * m / s, \n",
    "             vy = -30330 * m / s)"
   ]
  },
  {
   "cell_type": "code",
   "execution_count": 4,
   "metadata": {},
   "outputs": [
    {
     "data": {
      "text/html": [
       "31556925.9747 second"
      ],
      "text/latex": [
       "$31556925.9747\\ \\mathrm{second}$"
      ],
      "text/plain": [
       "<Quantity(31556925.9747, 'second')>"
      ]
     },
     "execution_count": 4,
     "metadata": {},
     "output_type": "execute_result"
    }
   ],
   "source": [
    "yr = UNITS.year\n",
    "\n",
    "one_yr = 1 * yr\n",
    "\n",
    "seconds = one_yr.to(UNITS.seconds)"
   ]
  },
  {
   "cell_type": "code",
   "execution_count": 5,
   "metadata": {},
   "outputs": [
    {
     "data": {
      "text/html": [
       "<div>\n",
       "<style scoped>\n",
       "    .dataframe tbody tr th:only-of-type {\n",
       "        vertical-align: middle;\n",
       "    }\n",
       "\n",
       "    .dataframe tbody tr th {\n",
       "        vertical-align: top;\n",
       "    }\n",
       "\n",
       "    .dataframe thead th {\n",
       "        text-align: right;\n",
       "    }\n",
       "</style>\n",
       "<table border=\"1\" class=\"dataframe\">\n",
       "  <thead>\n",
       "    <tr style=\"text-align: right;\">\n",
       "      <th></th>\n",
       "      <th>values</th>\n",
       "    </tr>\n",
       "  </thead>\n",
       "  <tbody>\n",
       "    <tr>\n",
       "      <th>init</th>\n",
       "      <td>x        147000000000.0 meter\n",
       "y               ...</td>\n",
       "    </tr>\n",
       "    <tr>\n",
       "      <th>G</th>\n",
       "      <td>6.674e-11 meter ** 2 * newton / kilogram ** 2</td>\n",
       "    </tr>\n",
       "    <tr>\n",
       "      <th>m1</th>\n",
       "      <td>1.989e+30 kilogram</td>\n",
       "    </tr>\n",
       "    <tr>\n",
       "      <th>r_final</th>\n",
       "      <td>701879000.0 meter</td>\n",
       "    </tr>\n",
       "    <tr>\n",
       "      <th>m2</th>\n",
       "      <td>5.972e+24 kilogram</td>\n",
       "    </tr>\n",
       "    <tr>\n",
       "      <th>t_0</th>\n",
       "      <td>0 second</td>\n",
       "    </tr>\n",
       "    <tr>\n",
       "      <th>t_end</th>\n",
       "      <td>31556925.9747 second</td>\n",
       "    </tr>\n",
       "  </tbody>\n",
       "</table>\n",
       "</div>"
      ],
      "text/plain": [
       "init       x        147000000000.0 meter\n",
       "y               ...\n",
       "G              6.674e-11 meter ** 2 * newton / kilogram ** 2\n",
       "m1                                        1.989e+30 kilogram\n",
       "r_final                                    701879000.0 meter\n",
       "m2                                        5.972e+24 kilogram\n",
       "t_0                                                 0 second\n",
       "t_end                                   31556925.9747 second\n",
       "dtype: object"
      ]
     },
     "execution_count": 5,
     "metadata": {},
     "output_type": "execute_result"
    }
   ],
   "source": [
    "# Making a system object\n",
    "\n",
    "r_earth = 6.371e6 * m\n",
    "r_sun = 695.508e6 * m\n",
    "\n",
    "system = System(init=init,\n",
    "                G=6.674e-11 * N / kg**2 * m**2,\n",
    "                m1=1.989e30 * kg,\n",
    "                r_final=r_sun + r_earth,\n",
    "                m2=5.972e24 * kg,\n",
    "                t_0=0 * s,\n",
    "                t_end=seconds)"
   ]
  },
  {
   "cell_type": "code",
   "execution_count": 6,
   "metadata": {},
   "outputs": [],
   "source": [
    "# Here's a function that computes the force of gravity\n",
    "\n",
    "def universal_gravitation(state, system):\n",
    "    \"\"\"Computes gravitational force.\n",
    "    \n",
    "    state: State object with distance r\n",
    "    system: System object with m1, m2, and G\n",
    "    \"\"\"\n",
    "    x, y, vx, vy = state\n",
    "    unpack(system)\n",
    "    \n",
    "    r = Vector(x, y)\n",
    "    \n",
    "    magnitude = (G * m1 * m2) / (r.mag ** 2)\n",
    "    \n",
    "    a, b = pol2cart(-r.angle, magnitude)\n",
    "    f_grav = Vector(a, b)\n",
    "    \n",
    "    return f_grav"
   ]
  },
  {
   "cell_type": "code",
   "execution_count": 7,
   "metadata": {},
   "outputs": [
    {
     "data": {
      "text/html": [
       "\\[\\begin{pmatrix}3.6686485997501037e+22 & -0.0\\end{pmatrix} newton\\]"
      ],
      "text/latex": [
       "$\\begin{pmatrix}3.6686485997501037e+22 & -0.0\\end{pmatrix}\\ \\mathrm{newton}$"
      ],
      "text/plain": [
       "<Quantity([ 3.6686486e+22 -0.0000000e+00], 'newton')>"
      ]
     },
     "execution_count": 7,
     "metadata": {},
     "output_type": "execute_result"
    }
   ],
   "source": [
    "universal_gravitation(init, system)"
   ]
  },
  {
   "cell_type": "code",
   "execution_count": 8,
   "metadata": {},
   "outputs": [],
   "source": [
    "# The slope function\n",
    "\n",
    "def slope_func(state, t, system):\n",
    "    \"\"\"Compute derivatives of the state.\n",
    "    \n",
    "    state: position, velocity\n",
    "    t: time\n",
    "    system: System object containing `g`\n",
    "    \n",
    "    returns: derivatives of y and v\n",
    "    \"\"\"\n",
    "    x, y, vx, vy = state\n",
    "    unpack(system)    \n",
    "    \n",
    "    F = universal_gravitation(state, system)\n",
    "    dxdt = vx\n",
    "    dydt = vy\n",
    "    dvxdt = -F.x/m2\n",
    "    dvydt = F.y/m2\n",
    " \n",
    "    return dxdt, dydt, dvxdt, dvydt"
   ]
  },
  {
   "cell_type": "code",
   "execution_count": 9,
   "metadata": {},
   "outputs": [
    {
     "data": {
      "text/plain": [
       "(<Quantity(0.0, 'meter / second')>,\n",
       " <Quantity(-30330.0, 'meter / second')>,\n",
       " <Quantity(-0.006143082049146188, 'newton / kilogram')>,\n",
       " <Quantity(-0.0, 'newton / kilogram')>)"
      ]
     },
     "execution_count": 9,
     "metadata": {},
     "output_type": "execute_result"
    }
   ],
   "source": [
    "# Always test the slope function!\n",
    "\n",
    "slope_func(init, 0, system)"
   ]
  },
  {
   "cell_type": "code",
   "execution_count": 10,
   "metadata": {},
   "outputs": [
    {
     "data": {
      "text/html": [
       "<div>\n",
       "<style scoped>\n",
       "    .dataframe tbody tr th:only-of-type {\n",
       "        vertical-align: middle;\n",
       "    }\n",
       "\n",
       "    .dataframe tbody tr th {\n",
       "        vertical-align: top;\n",
       "    }\n",
       "\n",
       "    .dataframe thead th {\n",
       "        text-align: right;\n",
       "    }\n",
       "</style>\n",
       "<table border=\"1\" class=\"dataframe\">\n",
       "  <thead>\n",
       "    <tr style=\"text-align: right;\">\n",
       "      <th></th>\n",
       "      <th>values</th>\n",
       "    </tr>\n",
       "  </thead>\n",
       "  <tbody>\n",
       "    <tr>\n",
       "      <th>sol</th>\n",
       "      <td>None</td>\n",
       "    </tr>\n",
       "    <tr>\n",
       "      <th>t_events</th>\n",
       "      <td>[]</td>\n",
       "    </tr>\n",
       "    <tr>\n",
       "      <th>nfev</th>\n",
       "      <td>152</td>\n",
       "    </tr>\n",
       "    <tr>\n",
       "      <th>njev</th>\n",
       "      <td>0</td>\n",
       "    </tr>\n",
       "    <tr>\n",
       "      <th>nlu</th>\n",
       "      <td>0</td>\n",
       "    </tr>\n",
       "    <tr>\n",
       "      <th>status</th>\n",
       "      <td>0</td>\n",
       "    </tr>\n",
       "    <tr>\n",
       "      <th>message</th>\n",
       "      <td>The solver successfully reached the end of the...</td>\n",
       "    </tr>\n",
       "    <tr>\n",
       "      <th>success</th>\n",
       "      <td>True</td>\n",
       "    </tr>\n",
       "  </tbody>\n",
       "</table>\n",
       "</div>"
      ],
      "text/plain": [
       "sol                                                      None\n",
       "t_events                                                   []\n",
       "nfev                                                      152\n",
       "njev                                                        0\n",
       "nlu                                                         0\n",
       "status                                                      0\n",
       "message     The solver successfully reached the end of the...\n",
       "success                                                  True\n",
       "dtype: object"
      ]
     },
     "execution_count": 10,
     "metadata": {},
     "output_type": "execute_result"
    }
   ],
   "source": [
    "#ts =linspace(system.t_0, system.t_end, 201)\n",
    "#results, details = run_ode_solver(system, slope_func, t_eval=ts)\n",
    "results, details = run_ode_solver(system, slope_func)\n",
    "details"
   ]
  },
  {
   "cell_type": "code",
   "execution_count": 11,
   "metadata": {},
   "outputs": [
    {
     "data": {
      "text/html": [
       "<div>\n",
       "<style scoped>\n",
       "    .dataframe tbody tr th:only-of-type {\n",
       "        vertical-align: middle;\n",
       "    }\n",
       "\n",
       "    .dataframe tbody tr th {\n",
       "        vertical-align: top;\n",
       "    }\n",
       "\n",
       "    .dataframe thead th {\n",
       "        text-align: right;\n",
       "    }\n",
       "</style>\n",
       "<table border=\"1\" class=\"dataframe\">\n",
       "  <thead>\n",
       "    <tr style=\"text-align: right;\">\n",
       "      <th></th>\n",
       "      <th>x</th>\n",
       "      <th>y</th>\n",
       "      <th>vx</th>\n",
       "      <th>vy</th>\n",
       "    </tr>\n",
       "  </thead>\n",
       "  <tbody>\n",
       "    <tr>\n",
       "      <th>0.000000e+00</th>\n",
       "      <td>1.470000e+11</td>\n",
       "      <td>0.000000e+00</td>\n",
       "      <td>0.000000e+00</td>\n",
       "      <td>-30330.000000</td>\n",
       "    </tr>\n",
       "    <tr>\n",
       "      <th>4.662755e-08</th>\n",
       "      <td>1.470000e+11</td>\n",
       "      <td>-1.414214e-03</td>\n",
       "      <td>-2.864369e-10</td>\n",
       "      <td>-30330.000000</td>\n",
       "    </tr>\n",
       "    <tr>\n",
       "      <th>5.129030e-07</th>\n",
       "      <td>1.470000e+11</td>\n",
       "      <td>-1.555635e-02</td>\n",
       "      <td>-3.150805e-09</td>\n",
       "      <td>-30330.000000</td>\n",
       "    </tr>\n",
       "    <tr>\n",
       "      <th>5.175658e-06</th>\n",
       "      <td>1.470000e+11</td>\n",
       "      <td>-1.569777e-01</td>\n",
       "      <td>-3.179449e-08</td>\n",
       "      <td>-30330.000000</td>\n",
       "    </tr>\n",
       "    <tr>\n",
       "      <th>5.180321e-05</th>\n",
       "      <td>1.470000e+11</td>\n",
       "      <td>-1.571191e+00</td>\n",
       "      <td>-3.182313e-07</td>\n",
       "      <td>-30330.000000</td>\n",
       "    </tr>\n",
       "    <tr>\n",
       "      <th>5.180787e-04</th>\n",
       "      <td>1.470000e+11</td>\n",
       "      <td>-1.571333e+01</td>\n",
       "      <td>-3.182600e-06</td>\n",
       "      <td>-30330.000000</td>\n",
       "    </tr>\n",
       "    <tr>\n",
       "      <th>5.180834e-03</th>\n",
       "      <td>1.470000e+11</td>\n",
       "      <td>-1.571347e+02</td>\n",
       "      <td>-3.182629e-05</td>\n",
       "      <td>-30330.000000</td>\n",
       "    </tr>\n",
       "    <tr>\n",
       "      <th>5.180838e-02</th>\n",
       "      <td>1.470000e+11</td>\n",
       "      <td>-1.571348e+03</td>\n",
       "      <td>-3.182631e-04</td>\n",
       "      <td>-30330.000000</td>\n",
       "    </tr>\n",
       "    <tr>\n",
       "      <th>5.180839e-01</th>\n",
       "      <td>1.470000e+11</td>\n",
       "      <td>-1.571348e+04</td>\n",
       "      <td>-3.182632e-03</td>\n",
       "      <td>-30330.000000</td>\n",
       "    </tr>\n",
       "    <tr>\n",
       "      <th>5.180839e+00</th>\n",
       "      <td>1.470000e+11</td>\n",
       "      <td>-1.571348e+05</td>\n",
       "      <td>-3.182632e-02</td>\n",
       "      <td>-30330.000000</td>\n",
       "    </tr>\n",
       "    <tr>\n",
       "      <th>5.180839e+01</th>\n",
       "      <td>1.470000e+11</td>\n",
       "      <td>-1.571348e+06</td>\n",
       "      <td>-3.182632e-01</td>\n",
       "      <td>-30329.999998</td>\n",
       "    </tr>\n",
       "    <tr>\n",
       "      <th>5.180839e+02</th>\n",
       "      <td>1.470000e+11</td>\n",
       "      <td>-1.571348e+07</td>\n",
       "      <td>-3.182632e+00</td>\n",
       "      <td>-30329.999830</td>\n",
       "    </tr>\n",
       "    <tr>\n",
       "      <th>5.180839e+03</th>\n",
       "      <td>1.469999e+11</td>\n",
       "      <td>-1.571348e+08</td>\n",
       "      <td>-3.182631e+01</td>\n",
       "      <td>-30329.982990</td>\n",
       "    </tr>\n",
       "    <tr>\n",
       "      <th>5.180839e+04</th>\n",
       "      <td>1.469918e+11</td>\n",
       "      <td>-1.571319e+09</td>\n",
       "      <td>-3.182569e+02</td>\n",
       "      <td>-30328.298990</td>\n",
       "    </tr>\n",
       "    <tr>\n",
       "      <th>5.180839e+05</th>\n",
       "      <td>1.461764e+11</td>\n",
       "      <td>-1.568413e+10</td>\n",
       "      <td>-3.176353e+03</td>\n",
       "      <td>-30160.082815</td>\n",
       "    </tr>\n",
       "    <tr>\n",
       "      <th>3.842569e+06</th>\n",
       "      <td>1.040238e+11</td>\n",
       "      <td>-1.049633e+11</td>\n",
       "      <td>-2.116123e+04</td>\n",
       "      <td>-21494.748487</td>\n",
       "    </tr>\n",
       "    <tr>\n",
       "      <th>8.292071e+06</th>\n",
       "      <td>-1.716810e+10</td>\n",
       "      <td>-1.487554e+11</td>\n",
       "      <td>-2.953900e+04</td>\n",
       "      <td>3056.129243</td>\n",
       "    </tr>\n",
       "    <tr>\n",
       "      <th>1.288254e+07</th>\n",
       "      <td>-1.281500e+11</td>\n",
       "      <td>-7.917175e+10</td>\n",
       "      <td>-1.539176e+04</td>\n",
       "      <td>25102.479842</td>\n",
       "    </tr>\n",
       "    <tr>\n",
       "      <th>1.733120e+07</th>\n",
       "      <td>-1.415448e+11</td>\n",
       "      <td>4.722822e+10</td>\n",
       "      <td>9.936206e+03</td>\n",
       "      <td>27953.740657</td>\n",
       "    </tr>\n",
       "    <tr>\n",
       "      <th>2.191359e+07</th>\n",
       "      <td>-4.593225e+10</td>\n",
       "      <td>1.386638e+11</td>\n",
       "      <td>2.891554e+04</td>\n",
       "      <td>8728.023125</td>\n",
       "    </tr>\n",
       "    <tr>\n",
       "      <th>2.670787e+07</th>\n",
       "      <td>9.130711e+10</td>\n",
       "      <td>1.096478e+11</td>\n",
       "      <td>2.314847e+04</td>\n",
       "      <td>-20175.414008</td>\n",
       "    </tr>\n",
       "    <tr>\n",
       "      <th>3.086498e+07</th>\n",
       "      <td>1.406544e+11</td>\n",
       "      <td>-4.491126e+09</td>\n",
       "      <td>-1.262140e+03</td>\n",
       "      <td>-31009.057667</td>\n",
       "    </tr>\n",
       "    <tr>\n",
       "      <th>3.155693e+07</th>\n",
       "      <td>1.381817e+11</td>\n",
       "      <td>-2.581481e+10</td>\n",
       "      <td>-5.874013e+03</td>\n",
       "      <td>-30507.610893</td>\n",
       "    </tr>\n",
       "  </tbody>\n",
       "</table>\n",
       "</div>"
      ],
      "text/plain": [
       "                         x             y            vx            vy\n",
       "0.000000e+00  1.470000e+11  0.000000e+00  0.000000e+00 -30330.000000\n",
       "4.662755e-08  1.470000e+11 -1.414214e-03 -2.864369e-10 -30330.000000\n",
       "5.129030e-07  1.470000e+11 -1.555635e-02 -3.150805e-09 -30330.000000\n",
       "5.175658e-06  1.470000e+11 -1.569777e-01 -3.179449e-08 -30330.000000\n",
       "5.180321e-05  1.470000e+11 -1.571191e+00 -3.182313e-07 -30330.000000\n",
       "5.180787e-04  1.470000e+11 -1.571333e+01 -3.182600e-06 -30330.000000\n",
       "5.180834e-03  1.470000e+11 -1.571347e+02 -3.182629e-05 -30330.000000\n",
       "5.180838e-02  1.470000e+11 -1.571348e+03 -3.182631e-04 -30330.000000\n",
       "5.180839e-01  1.470000e+11 -1.571348e+04 -3.182632e-03 -30330.000000\n",
       "5.180839e+00  1.470000e+11 -1.571348e+05 -3.182632e-02 -30330.000000\n",
       "5.180839e+01  1.470000e+11 -1.571348e+06 -3.182632e-01 -30329.999998\n",
       "5.180839e+02  1.470000e+11 -1.571348e+07 -3.182632e+00 -30329.999830\n",
       "5.180839e+03  1.469999e+11 -1.571348e+08 -3.182631e+01 -30329.982990\n",
       "5.180839e+04  1.469918e+11 -1.571319e+09 -3.182569e+02 -30328.298990\n",
       "5.180839e+05  1.461764e+11 -1.568413e+10 -3.176353e+03 -30160.082815\n",
       "3.842569e+06  1.040238e+11 -1.049633e+11 -2.116123e+04 -21494.748487\n",
       "8.292071e+06 -1.716810e+10 -1.487554e+11 -2.953900e+04   3056.129243\n",
       "1.288254e+07 -1.281500e+11 -7.917175e+10 -1.539176e+04  25102.479842\n",
       "1.733120e+07 -1.415448e+11  4.722822e+10  9.936206e+03  27953.740657\n",
       "2.191359e+07 -4.593225e+10  1.386638e+11  2.891554e+04   8728.023125\n",
       "2.670787e+07  9.130711e+10  1.096478e+11  2.314847e+04 -20175.414008\n",
       "3.086498e+07  1.406544e+11 -4.491126e+09 -1.262140e+03 -31009.057667\n",
       "3.155693e+07  1.381817e+11 -2.581481e+10 -5.874013e+03 -30507.610893"
      ]
     },
     "execution_count": 11,
     "metadata": {},
     "output_type": "execute_result"
    }
   ],
   "source": [
    "results"
   ]
  },
  {
   "cell_type": "code",
   "execution_count": 12,
   "metadata": {},
   "outputs": [
    {
     "data": {
      "text/plain": [
       "[<matplotlib.lines.Line2D at 0x20762e20668>]"
      ]
     },
     "execution_count": 12,
     "metadata": {},
     "output_type": "execute_result"
    },
    {
     "data": {
      "image/png": "[encoded data removed]",
      "text/plain": [
       "<Figure size 432x288 with 1 Axes>"
      ]
     },
     "metadata": {},
     "output_type": "display_data"
    }
   ],
   "source": [
    "plot(results.x)\n",
    "\n",
    "decorate(xlabel='Time (day)',\n",
    "         ylabel='Distance from sun (million km)')"
   ]
  },
  {
   "cell_type": "code",
   "execution_count": 13,
   "metadata": {},
   "outputs": [
    {
     "data": {
      "text/plain": [
       "[<matplotlib.lines.Line2D at 0x20762ead6a0>]"
      ]
     },
     "execution_count": 13,
     "metadata": {},
     "output_type": "execute_result"
    },
    {
     "data": {
      "image/png": "[encoded data removed]",
      "text/plain": [
       "<Figure size 432x288 with 1 Axes>"
      ]
     },
     "metadata": {},
     "output_type": "display_data"
    }
   ],
   "source": [
    "plot(results.y)\n",
    "\n",
    "decorate(xlabel='Time (day)',\n",
    "         ylabel='Distance from sun (million km)')"
   ]
  },
  {
   "cell_type": "code",
   "execution_count": 14,
   "metadata": {},
   "outputs": [
    {
     "data": {
      "text/plain": [
       "[<matplotlib.lines.Line2D at 0x20762f11390>]"
      ]
     },
     "execution_count": 14,
     "metadata": {},
     "output_type": "execute_result"
    },
    {
     "data": {
      "image/png": "[encoded data removed]",
      "text/plain": [
       "<Figure size 432x288 with 1 Axes>"
      ]
     },
     "metadata": {},
     "output_type": "display_data"
    }
   ],
   "source": [
    "plot(results.x, results.y)\n",
    "\n",
    "decorate(xlabel='Time (day)',\n",
    "         ylabel='Distance from sun (million km)')"
   ]
  },
  {
   "cell_type": "code",
   "execution_count": 15,
   "metadata": {},
   "outputs": [
    {
     "name": "stdout",
     "output_type": "stream",
     "text": [
      "Help on function solve_ivp in module scipy.integrate._ivp.ivp:\n",
      "\n",
      "solve_ivp(fun, t_span, y0, method='RK45', t_eval=None, dense_output=False, events=None, vectorized=False, **options)\n",
      "    Solve an initial value problem for a system of ODEs.\n",
      "    \n",
      "    This function numerically integrates a system of ordinary differential\n",
      "    equations given an initial value::\n",
      "    \n",
      "        dy / dt = f(t, y)\n",
      "        y(t0) = y0\n",
      "    \n",
      "    Here t is a one-dimensional independent variable (time), y(t) is an\n",
      "    n-dimensional vector-valued function (state), and an n-dimensional\n",
      "    vector-valued function f(t, y) determines the differential equations.\n",
      "    The goal is to find y(t) approximately satisfying the differential\n",
      "    equations, given an initial value y(t0)=y0.\n",
      "    \n",
      "    Some of the solvers support integration in the complex domain, but note that\n",
      "    for stiff ODE solvers, the right-hand side must be complex-differentiable\n",
      "    (satisfy Cauchy-Riemann equations [11]_). To solve a problem in the complex\n",
      "    domain, pass y0 with a complex data type. Another option is always to\n",
      "    rewrite your problem for real and imaginary parts separately.\n",
      "    \n",
      "    Parameters\n",
      "    ----------\n",
      "    fun : callable\n",
      "        Right-hand side of the system. The calling signature is ``fun(t, y)``.\n",
      "        Here ``t`` is a scalar, and there are two options for the ndarray ``y``:\n",
      "        It can either have shape (n,); then ``fun`` must return array_like with\n",
      "        shape (n,). Alternatively it can have shape (n, k); then ``fun``\n",
      "        must return an array_like with shape (n, k), i.e. each column\n",
      "        corresponds to a single column in ``y``. The choice between the two\n",
      "        options is determined by `vectorized` argument (see below). The\n",
      "        vectorized implementation allows a faster approximation of the Jacobian\n",
      "        by finite differences (required for stiff solvers).\n",
      "    t_span : 2-tuple of floats\n",
      "        Interval of integration (t0, tf). The solver starts with t=t0 and\n",
      "        integrates until it reaches t=tf.\n",
      "    y0 : array_like, shape (n,)\n",
      "        Initial state. For problems in the complex domain, pass `y0` with a\n",
      "        complex data type (even if the initial guess is purely real).\n",
      "    method : string or `OdeSolver`, optional\n",
      "        Integration method to use:\n",
      "    \n",
      "            * 'RK45' (default): Explicit Runge-Kutta method of order 5(4) [1]_.\n",
      "              The error is controlled assuming accuracy of the fourth-order\n",
      "              method, but steps are taken using the fifth-order accurate formula\n",
      "              (local extrapolation is done). A quartic interpolation polynomial\n",
      "              is used for the dense output [2]_. Can be applied in the complex domain.\n",
      "            * 'RK23': Explicit Runge-Kutta method of order 3(2) [3]_. The error\n",
      "              is controlled assuming accuracy of the second-order method, but\n",
      "              steps are taken using the third-order accurate formula (local\n",
      "              extrapolation is done). A cubic Hermite polynomial is used for the\n",
      "              dense output. Can be applied in the complex domain.\n",
      "            * 'Radau': Implicit Runge-Kutta method of the Radau IIA family of\n",
      "              order 5 [4]_. The error is controlled with a third-order accurate\n",
      "              embedded formula. A cubic polynomial which satisfies the\n",
      "              collocation conditions is used for the dense output.\n",
      "            * 'BDF': Implicit multi-step variable-order (1 to 5) method based\n",
      "              on a backward differentiation formula for the derivative\n",
      "              approximation [5]_. The implementation follows the one described\n",
      "              in [6]_. A quasi-constant step scheme is used and accuracy is\n",
      "              enhanced using the NDF modification. Can be applied in the complex\n",
      "              domain.\n",
      "            * 'LSODA': Adams/BDF method with automatic stiffness detection and\n",
      "              switching [7]_, [8]_. This is a wrapper of the Fortran solver\n",
      "              from ODEPACK.\n",
      "    \n",
      "        You should use the 'RK45' or 'RK23' method for non-stiff problems and\n",
      "        'Radau' or 'BDF' for stiff problems [9]_. If not sure, first try to run\n",
      "        'RK45'. If needs unusually many iterations, diverges, or fails, your\n",
      "        problem is likely to be stiff and you should use 'Radau' or 'BDF'.\n",
      "        'LSODA' can also be a good universal choice, but it might be somewhat\n",
      "        less convenient to work with as it wraps old Fortran code.\n",
      "    \n",
      "        You can also pass an arbitrary class derived from `OdeSolver` which\n",
      "        implements the solver.\n",
      "    dense_output : bool, optional\n",
      "        Whether to compute a continuous solution. Default is False.\n",
      "    t_eval : array_like or None, optional\n",
      "        Times at which to store the computed solution, must be sorted and lie\n",
      "        within `t_span`. If None (default), use points selected by the solver.\n",
      "    events : callable, list of callables or None, optional\n",
      "        Types of events to track. Each is defined by a continuous function of\n",
      "        time and state that becomes zero value in case of an event. Each function\n",
      "        must have the signature ``event(t, y)`` and return a float. The solver will\n",
      "        find an accurate value of ``t`` at which ``event(t, y(t)) = 0`` using a\n",
      "        root-finding algorithm. Additionally each ``event`` function might have\n",
      "        the following attributes:\n",
      "    \n",
      "            * terminal: bool, whether to terminate integration if this\n",
      "              event occurs. Implicitly False if not assigned.\n",
      "            * direction: float, direction of a zero crossing. If `direction`\n",
      "              is positive, `event` must go from negative to positive, and\n",
      "              vice versa if `direction` is negative. If 0, then either direction\n",
      "              will count. Implicitly 0 if not assigned.\n",
      "    \n",
      "        You can assign attributes like ``event.terminal = True`` to any\n",
      "        function in Python. If None (default), events won't be tracked.\n",
      "    vectorized : bool, optional\n",
      "        Whether `fun` is implemented in a vectorized fashion. Default is False.\n",
      "    options\n",
      "        Options passed to a chosen solver. All options available for already\n",
      "        implemented solvers are listed below.\n",
      "    max_step : float, optional\n",
      "        Maximum allowed step size. Default is np.inf, i.e. the step size is not\n",
      "        bounded and determined solely by the solver.\n",
      "    rtol, atol : float and array_like, optional\n",
      "        Relative and absolute tolerances. The solver keeps the local error\n",
      "        estimates less than ``atol + rtol * abs(y)``. Here `rtol` controls a\n",
      "        relative accuracy (number of correct digits). But if a component of `y`\n",
      "        is approximately below `atol`, the error only needs to fall within\n",
      "        the same `atol` threshold, and the number of correct digits is not\n",
      "        guaranteed. If components of y have different scales, it might be\n",
      "        beneficial to set different `atol` values for different components by\n",
      "        passing array_like with shape (n,) for `atol`. Default values are\n",
      "        1e-3 for `rtol` and 1e-6 for `atol`.\n",
      "    jac : {None, array_like, sparse_matrix, callable}, optional\n",
      "        Jacobian matrix of the right-hand side of the system with respect to\n",
      "        y, required by the 'Radau', 'BDF' and 'LSODA' method. The Jacobian matrix\n",
      "        has shape (n, n) and its element (i, j) is equal to ``d f_i / d y_j``.\n",
      "        There are three ways to define the Jacobian:\n",
      "    \n",
      "            * If array_like or sparse_matrix, the Jacobian is assumed to\n",
      "              be constant. Not supported by 'LSODA'.\n",
      "            * If callable, the Jacobian is assumed to depend on both\n",
      "              t and y; it will be called as ``jac(t, y)`` as necessary.\n",
      "              For the 'Radau' and 'BDF' methods, the return value might be a\n",
      "              sparse matrix.\n",
      "            * If None (default), the Jacobian will be approximated by\n",
      "              finite differences.\n",
      "    \n",
      "        It is generally recommended to provide the Jacobian rather than\n",
      "        relying on a finite-difference approximation.\n",
      "    jac_sparsity : {None, array_like, sparse matrix}, optional\n",
      "        Defines a sparsity structure of the Jacobian matrix for a\n",
      "        finite-difference approximation. Its shape must be (n, n). This argument\n",
      "        is ignored if `jac` is not `None`. If the Jacobian has only few non-zero\n",
      "        elements in *each* row, providing the sparsity structure will greatly\n",
      "        speed up the computations [10]_. A zero entry means that a corresponding\n",
      "        element in the Jacobian is always zero. If None (default), the Jacobian\n",
      "        is assumed to be dense.\n",
      "        Not supported by 'LSODA', see `lband` and `uband` instead.\n",
      "    lband, uband : int or None\n",
      "        Parameters defining the bandwidth of the Jacobian for the 'LSODA' method,\n",
      "        i.e., ``jac[i, j] != 0 only for i - lband <= j <= i + uband``. Setting\n",
      "        these requires your jac routine to return the Jacobian in the packed format:\n",
      "        the returned array must have ``n`` columns and ``uband + lband + 1``\n",
      "        rows in which Jacobian diagonals are written. Specifically\n",
      "        ``jac_packed[uband + i - j , j] = jac[i, j]``. The same format is used\n",
      "        in `scipy.linalg.solve_banded` (check for an illustration).\n",
      "        These parameters can be also used with ``jac=None`` to reduce the\n",
      "        number of Jacobian elements estimated by finite differences.\n",
      "    min_step, first_step : float, optional\n",
      "        The minimum allowed step size and the initial step size respectively\n",
      "        for 'LSODA' method. By default `min_step` is zero and `first_step` is\n",
      "        selected automatically.\n",
      "    \n",
      "    Returns\n",
      "    -------\n",
      "    Bunch object with the following fields defined:\n",
      "    t : ndarray, shape (n_points,)\n",
      "        Time points.\n",
      "    y : ndarray, shape (n, n_points)\n",
      "        Values of the solution at `t`.\n",
      "    sol : `OdeSolution` or None\n",
      "        Found solution as `OdeSolution` instance; None if `dense_output` was\n",
      "        set to False.\n",
      "    t_events : list of ndarray or None\n",
      "        Contains for each event type a list of arrays at which an event of\n",
      "        that type event was detected. None if `events` was None.\n",
      "    nfev : int\n",
      "        Number of evaluations of the right-hand side.\n",
      "    njev : int\n",
      "        Number of evaluations of the Jacobian.\n",
      "    nlu : int\n",
      "        Number of LU decompositions.\n",
      "    status : int\n",
      "        Reason for algorithm termination:\n",
      "    \n",
      "            * -1: Integration step failed.\n",
      "            *  0: The solver successfully reached the end of `tspan`.\n",
      "            *  1: A termination event occurred.\n",
      "    \n",
      "    message : string\n",
      "        Human-readable description of the termination reason.\n",
      "    success : bool\n",
      "        True if the solver reached the interval end or a termination event\n",
      "        occurred (``status >= 0``).\n",
      "    \n",
      "    References\n",
      "    ----------\n",
      "    .. [1] J. R. Dormand, P. J. Prince, \"A family of embedded Runge-Kutta\n",
      "           formulae\", Journal of Computational and Applied Mathematics, Vol. 6,\n",
      "           No. 1, pp. 19-26, 1980.\n",
      "    .. [2] L. W. Shampine, \"Some Practical Runge-Kutta Formulas\", Mathematics\n",
      "           of Computation,, Vol. 46, No. 173, pp. 135-150, 1986.\n",
      "    .. [3] P. Bogacki, L.F. Shampine, \"A 3(2) Pair of Runge-Kutta Formulas\",\n",
      "           Appl. Math. Lett. Vol. 2, No. 4. pp. 321-325, 1989.\n",
      "    .. [4] E. Hairer, G. Wanner, \"Solving Ordinary Differential Equations II:\n",
      "           Stiff and Differential-Algebraic Problems\", Sec. IV.8.\n",
      "    .. [5] `Backward Differentiation Formula\n",
      "            <https://en.wikipedia.org/wiki/Backward_differentiation_formula>`_\n",
      "            on Wikipedia.\n",
      "    .. [6] L. F. Shampine, M. W. Reichelt, \"THE MATLAB ODE SUITE\", SIAM J. SCI.\n",
      "           COMPUTE., Vol. 18, No. 1, pp. 1-22, January 1997.\n",
      "    .. [7] A. C. Hindmarsh, \"ODEPACK, A Systematized Collection of ODE\n",
      "           Solvers,\" IMACS Transactions on Scientific Computation, Vol 1.,\n",
      "           pp. 55-64, 1983.\n",
      "    .. [8] L. Petzold, \"Automatic selection of methods for solving stiff and\n",
      "           nonstiff systems of ordinary differential equations\", SIAM Journal\n",
      "           on Scientific and Statistical Computing, Vol. 4, No. 1, pp. 136-148,\n",
      "           1983.\n",
      "    .. [9] `Stiff equation <https://en.wikipedia.org/wiki/Stiff_equation>`_ on\n",
      "           Wikipedia.\n",
      "    .. [10] A. Curtis, M. J. D. Powell, and J. Reid, \"On the estimation of\n",
      "            sparse Jacobian matrices\", Journal of the Institute of Mathematics\n",
      "            and its Applications, 13, pp. 117-120, 1974.\n",
      "    .. [11] `Cauchy-Riemann equations\n",
      "             <https://en.wikipedia.org/wiki/Cauchy-Riemann_equations>`_ on\n",
      "             Wikipedia.\n",
      "    \n",
      "    Examples\n",
      "    --------\n",
      "    Basic exponential decay showing automatically chosen time points.\n",
      "    \n",
      "    >>> from scipy.integrate import solve_ivp\n",
      "    >>> def exponential_decay(t, y): return -0.5 * y\n",
      "    >>> sol = solve_ivp(exponential_decay, [0, 10], [2, 4, 8])\n",
      "    >>> print(sol.t)\n",
      "    [  0.           0.11487653   1.26364188   3.06061781   4.85759374\n",
      "       6.65456967   8.4515456   10.        ]\n",
      "    >>> print(sol.y)\n",
      "    [[2.         1.88836035 1.06327177 0.43319312 0.17648948 0.0719045\n",
      "      0.02929499 0.01350938]\n",
      "     [4.         3.7767207  2.12654355 0.86638624 0.35297895 0.143809\n",
      "      0.05858998 0.02701876]\n",
      "     [8.         7.5534414  4.25308709 1.73277247 0.7059579  0.287618\n",
      "      0.11717996 0.05403753]]\n",
      "    \n",
      "    Specifying points where the solution is desired.\n",
      "    \n",
      "    >>> sol = solve_ivp(exponential_decay, [0, 10], [2, 4, 8],\n",
      "    ...                 t_eval=[0, 1, 2, 4, 10])\n",
      "    >>> print(sol.t)\n",
      "    [ 0  1  2  4 10]\n",
      "    >>> print(sol.y)\n",
      "    [[2.         1.21305369 0.73534021 0.27066736 0.01350938]\n",
      "     [4.         2.42610739 1.47068043 0.54133472 0.02701876]\n",
      "     [8.         4.85221478 2.94136085 1.08266944 0.05403753]]\n",
      "    \n",
      "    Cannon fired upward with terminal event upon impact. The ``terminal`` and\n",
      "    ``direction`` fields of an event are applied by monkey patching a function.\n",
      "    Here ``y[0]`` is position and ``y[1]`` is velocity. The projectile starts at\n",
      "    position 0 with velocity +10. Note that the integration never reaches t=100\n",
      "    because the event is terminal.\n",
      "    \n",
      "    >>> def upward_cannon(t, y): return [y[1], -0.5]\n",
      "    >>> def hit_ground(t, y): return y[1]\n",
      "    >>> hit_ground.terminal = True\n",
      "    >>> hit_ground.direction = -1\n",
      "    >>> sol = solve_ivp(upward_cannon, [0, 100], [0, 10], events=hit_ground)\n",
      "    >>> print(sol.t_events)\n",
      "    [array([ 20.])]\n",
      "    >>> print(sol.t)\n",
      "    [0.00000000e+00 9.99900010e-05 1.09989001e-03 1.10988901e-02\n",
      "     1.11088891e-01 1.11098890e+00 1.11099890e+01 2.00000000e+01]\n",
      "\n"
     ]
    }
   ],
   "source": [
    "help(solve_ivp)"
   ]
  },
  {
   "cell_type": "code",
   "execution_count": 16,
   "metadata": {},
   "outputs": [
    {
     "data": {
      "text/html": [
       "<div>\n",
       "<style scoped>\n",
       "    .dataframe tbody tr th:only-of-type {\n",
       "        vertical-align: middle;\n",
       "    }\n",
       "\n",
       "    .dataframe tbody tr th {\n",
       "        vertical-align: top;\n",
       "    }\n",
       "\n",
       "    .dataframe thead th {\n",
       "        text-align: right;\n",
       "    }\n",
       "</style>\n",
       "<table border=\"1\" class=\"dataframe\">\n",
       "  <thead>\n",
       "    <tr style=\"text-align: right;\">\n",
       "      <th></th>\n",
       "      <th>values</th>\n",
       "    </tr>\n",
       "  </thead>\n",
       "  <tbody>\n",
       "    <tr>\n",
       "      <th>sol</th>\n",
       "      <td>None</td>\n",
       "    </tr>\n",
       "    <tr>\n",
       "      <th>t_events</th>\n",
       "      <td>[]</td>\n",
       "    </tr>\n",
       "    <tr>\n",
       "      <th>nfev</th>\n",
       "      <td>152</td>\n",
       "    </tr>\n",
       "    <tr>\n",
       "      <th>njev</th>\n",
       "      <td>0</td>\n",
       "    </tr>\n",
       "    <tr>\n",
       "      <th>nlu</th>\n",
       "      <td>0</td>\n",
       "    </tr>\n",
       "    <tr>\n",
       "      <th>status</th>\n",
       "      <td>0</td>\n",
       "    </tr>\n",
       "    <tr>\n",
       "      <th>message</th>\n",
       "      <td>The solver successfully reached the end of the...</td>\n",
       "    </tr>\n",
       "    <tr>\n",
       "      <th>success</th>\n",
       "      <td>True</td>\n",
       "    </tr>\n",
       "  </tbody>\n",
       "</table>\n",
       "</div>"
      ],
      "text/plain": [
       "sol                                                      None\n",
       "t_events                                                   []\n",
       "nfev                                                      152\n",
       "njev                                                        0\n",
       "nlu                                                         0\n",
       "status                                                      0\n",
       "message     The solver successfully reached the end of the...\n",
       "success                                                  True\n",
       "dtype: object"
      ]
     },
     "execution_count": 16,
     "metadata": {},
     "output_type": "execute_result"
    }
   ],
   "source": [
    "results1, details1 = run_ode_solver(system, slope_func, method = 'RK23')\n",
    "details"
   ]
  },
  {
   "cell_type": "code",
   "execution_count": 17,
   "metadata": {},
   "outputs": [
    {
     "data": {
      "text/plain": [
       "[<matplotlib.lines.Line2D at 0x20762f80898>]"
      ]
     },
     "execution_count": 17,
     "metadata": {},
     "output_type": "execute_result"
    },
    {
     "data": {
      "image/png": "[encoded data removed]",
      "text/plain": [
       "<Figure size 432x288 with 1 Axes>"
      ]
     },
     "metadata": {},
     "output_type": "display_data"
    }
   ],
   "source": [
    "plot(results1.x, results1.y)\n",
    "\n",
    "decorate(xlabel='Time (day)',\n",
    "         ylabel='Distance from sun (million km)')"
   ]
  },
  {
   "cell_type": "code",
   "execution_count": null,
   "metadata": {},
   "outputs": [],
   "source": []
  }
 ],
 "metadata": {
  "kernelspec": {
   "display_name": "Python 3",
   "language": "python",
   "name": "python3"
  },
  "language_info": {
   "codemirror_mode": {
    "name": "ipython",
    "version": 3
   },
   "file_extension": ".py",
   "mimetype": "text/x-python",
   "name": "python",
   "nbconvert_exporter": "python",
   "pygments_lexer": "ipython3",
   "version": "3.6.5"
  }
 },
 "nbformat": 4,
 "nbformat_minor": 2
}
