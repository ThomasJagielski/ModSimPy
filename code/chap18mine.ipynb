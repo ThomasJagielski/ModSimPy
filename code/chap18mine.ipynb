{
 "cells": [
  {
   "cell_type": "markdown",
   "metadata": {},
   "source": [
    "# Modeling and Simulation in Python\n",
    "\n",
    "Chapter 18\n",
    "\n",
    "Copyright 2017 Allen Downey\n",
    "\n",
    "License: [Creative Commons Attribution 4.0 International](https://creativecommons.org/licenses/by/4.0)\n"
   ]
  },
  {
   "cell_type": "code",
   "execution_count": 2,
   "metadata": {},
   "outputs": [],
   "source": [
    "# Configure Jupyter so figures appear in the notebook\n",
    "%matplotlib inline\n",
    "\n",
    "# Configure Jupyter to display the assigned value after an assignment\n",
    "%config InteractiveShell.ast_node_interactivity='last_expr_or_assign'\n",
    "\n",
    "# import functions from the modsim.py module\n",
    "from modsim import *"
   ]
  },
  {
   "cell_type": "markdown",
   "metadata": {},
   "source": [
    "### Code from the previous chapter\n",
    "\n",
    "Read the data."
   ]
  },
  {
   "cell_type": "code",
   "execution_count": 9,
   "metadata": {},
   "outputs": [],
   "source": [
    "data = pd.read_csv('data/glucose_insulin.csv', index_col='time');"
   ]
  },
  {
   "cell_type": "markdown",
   "metadata": {},
   "source": [
    "Interpolate the insulin data."
   ]
  },
  {
   "cell_type": "code",
   "execution_count": 10,
   "metadata": {},
   "outputs": [
    {
     "data": {
      "text/plain": [
       "<scipy.interpolate.interpolate.interp1d at 0x21227e32408>"
      ]
     },
     "execution_count": 10,
     "metadata": {},
     "output_type": "execute_result"
    }
   ],
   "source": [
    "I = interpolate(data.insulin)"
   ]
  },
  {
   "cell_type": "markdown",
   "metadata": {},
   "source": [
    "Initialize the parameters"
   ]
  },
  {
   "cell_type": "code",
   "execution_count": 4,
   "metadata": {},
   "outputs": [
    {
     "data": {
      "text/plain": [
       "1e-05"
      ]
     },
     "execution_count": 4,
     "metadata": {},
     "output_type": "execute_result"
    }
   ],
   "source": [
    "G0 = 290\n",
    "k1 = 0.03\n",
    "k2 = 0.02\n",
    "k3 = 1e-05"
   ]
  },
  {
   "cell_type": "markdown",
   "metadata": {},
   "source": [
    "To estimate basal levels, we'll use the concentrations at `t=0`."
   ]
  },
  {
   "cell_type": "code",
   "execution_count": 5,
   "metadata": {},
   "outputs": [
    {
     "data": {
      "text/plain": [
       "11"
      ]
     },
     "execution_count": 5,
     "metadata": {},
     "output_type": "execute_result"
    }
   ],
   "source": [
    "Gb = data.glucose[0]\n",
    "Ib = data.insulin[0]"
   ]
  },
  {
   "cell_type": "markdown",
   "metadata": {},
   "source": [
    "Create the initial condtions."
   ]
  },
  {
   "cell_type": "code",
   "execution_count": 6,
   "metadata": {},
   "outputs": [
    {
     "data": {
      "text/html": [
       "<div>\n",
       "<style scoped>\n",
       "    .dataframe tbody tr th:only-of-type {\n",
       "        vertical-align: middle;\n",
       "    }\n",
       "\n",
       "    .dataframe tbody tr th {\n",
       "        vertical-align: top;\n",
       "    }\n",
       "\n",
       "    .dataframe thead th {\n",
       "        text-align: right;\n",
       "    }\n",
       "</style>\n",
       "<table border=\"1\" class=\"dataframe\">\n",
       "  <thead>\n",
       "    <tr style=\"text-align: right;\">\n",
       "      <th></th>\n",
       "      <th>values</th>\n",
       "    </tr>\n",
       "  </thead>\n",
       "  <tbody>\n",
       "    <tr>\n",
       "      <th>G</th>\n",
       "      <td>290</td>\n",
       "    </tr>\n",
       "    <tr>\n",
       "      <th>X</th>\n",
       "      <td>0</td>\n",
       "    </tr>\n",
       "  </tbody>\n",
       "</table>\n",
       "</div>"
      ],
      "text/plain": [
       "G    290\n",
       "X      0\n",
       "dtype: int64"
      ]
     },
     "execution_count": 6,
     "metadata": {},
     "output_type": "execute_result"
    }
   ],
   "source": [
    "init = State(G=G0, X=0)"
   ]
  },
  {
   "cell_type": "markdown",
   "metadata": {},
   "source": [
    "Make the `System` object."
   ]
  },
  {
   "cell_type": "code",
   "execution_count": 7,
   "metadata": {},
   "outputs": [
    {
     "data": {
      "text/plain": [
       "182"
      ]
     },
     "execution_count": 7,
     "metadata": {},
     "output_type": "execute_result"
    }
   ],
   "source": [
    "t_0 = get_first_label(data)\n",
    "t_end = get_last_label(data)"
   ]
  },
  {
   "cell_type": "code",
   "execution_count": 8,
   "metadata": {},
   "outputs": [
    {
     "data": {
      "text/html": [
       "<div>\n",
       "<style scoped>\n",
       "    .dataframe tbody tr th:only-of-type {\n",
       "        vertical-align: middle;\n",
       "    }\n",
       "\n",
       "    .dataframe tbody tr th {\n",
       "        vertical-align: top;\n",
       "    }\n",
       "\n",
       "    .dataframe thead th {\n",
       "        text-align: right;\n",
       "    }\n",
       "</style>\n",
       "<table border=\"1\" class=\"dataframe\">\n",
       "  <thead>\n",
       "    <tr style=\"text-align: right;\">\n",
       "      <th></th>\n",
       "      <th>values</th>\n",
       "    </tr>\n",
       "  </thead>\n",
       "  <tbody>\n",
       "    <tr>\n",
       "      <th>init</th>\n",
       "      <td>G    290\n",
       "X      0\n",
       "dtype: int64</td>\n",
       "    </tr>\n",
       "    <tr>\n",
       "      <th>k1</th>\n",
       "      <td>0.03</td>\n",
       "    </tr>\n",
       "    <tr>\n",
       "      <th>k2</th>\n",
       "      <td>0.02</td>\n",
       "    </tr>\n",
       "    <tr>\n",
       "      <th>k3</th>\n",
       "      <td>1e-05</td>\n",
       "    </tr>\n",
       "    <tr>\n",
       "      <th>I</th>\n",
       "      <td>&lt;scipy.interpolate.interpolate.interp1d object...</td>\n",
       "    </tr>\n",
       "    <tr>\n",
       "      <th>Gb</th>\n",
       "      <td>92</td>\n",
       "    </tr>\n",
       "    <tr>\n",
       "      <th>Ib</th>\n",
       "      <td>11</td>\n",
       "    </tr>\n",
       "    <tr>\n",
       "      <th>t_0</th>\n",
       "      <td>0</td>\n",
       "    </tr>\n",
       "    <tr>\n",
       "      <th>t_end</th>\n",
       "      <td>182</td>\n",
       "    </tr>\n",
       "    <tr>\n",
       "      <th>dt</th>\n",
       "      <td>2</td>\n",
       "    </tr>\n",
       "  </tbody>\n",
       "</table>\n",
       "</div>"
      ],
      "text/plain": [
       "init                        G    290\n",
       "X      0\n",
       "dtype: int64\n",
       "k1                                                    0.03\n",
       "k2                                                    0.02\n",
       "k3                                                   1e-05\n",
       "I        <scipy.interpolate.interpolate.interp1d object...\n",
       "Gb                                                      92\n",
       "Ib                                                      11\n",
       "t_0                                                      0\n",
       "t_end                                                  182\n",
       "dt                                                       2\n",
       "dtype: object"
      ]
     },
     "execution_count": 8,
     "metadata": {},
     "output_type": "execute_result"
    }
   ],
   "source": [
    "system = System(init=init, \n",
    "                k1=k1, k2=k2, k3=k3,\n",
    "                I=I, Gb=Gb, Ib=Ib,\n",
    "                t_0=t_0, t_end=t_end, dt=2)"
   ]
  },
  {
   "cell_type": "code",
   "execution_count": 9,
   "metadata": {},
   "outputs": [],
   "source": [
    "def update_func(state, t, system):\n",
    "    \"\"\"Updates the glucose minimal model.\n",
    "    \n",
    "    state: State object\n",
    "    t: time in min\n",
    "    system: System object\n",
    "    \n",
    "    returns: State object\n",
    "    \"\"\"\n",
    "    G, X = state\n",
    "    unpack(system)\n",
    "        \n",
    "    dGdt = -k1 * (G - Gb) - X*G\n",
    "    dXdt = k3 * (I(t) - Ib) - k2 * X\n",
    "    \n",
    "    G += dGdt * dt\n",
    "    X += dXdt * dt\n",
    "\n",
    "    return State(G=G, X=X)"
   ]
  },
  {
   "cell_type": "code",
   "execution_count": 10,
   "metadata": {},
   "outputs": [],
   "source": [
    "def run_simulation(system, update_func):\n",
    "    \"\"\"Runs a simulation of the system.\n",
    "        \n",
    "    system: System object\n",
    "    update_func: function that updates state\n",
    "    \n",
    "    returns: TimeFrame\n",
    "    \"\"\"\n",
    "    unpack(system)\n",
    "    \n",
    "    frame = TimeFrame(columns=init.index)\n",
    "    frame.row[t_0] = init\n",
    "    ts = linrange(t_0, t_end, dt)\n",
    "    \n",
    "    for t in ts:\n",
    "        frame.row[t+dt] = update_func(frame.row[t], t, system)\n",
    "    \n",
    "    return frame"
   ]
  },
  {
   "cell_type": "code",
   "execution_count": 11,
   "metadata": {},
   "outputs": [
    {
     "name": "stdout",
     "output_type": "stream",
     "text": [
      "Wall time: 312 ms\n"
     ]
    }
   ],
   "source": [
    "%time results = run_simulation(system, update_func);"
   ]
  },
  {
   "cell_type": "markdown",
   "metadata": {},
   "source": [
    "### Numerical solution\n",
    "\n",
    "In the previous chapter, we approximated the differential equations with difference equations, and solved them using `run_simulation`.\n",
    "\n",
    "In this chapter, we solve the differential equation numerically using `run_ode_solver`, which is a wrapper for the SciPy ODE solver.\n",
    "\n",
    "Instead of an update function, we provide a slope function that evaluates the right-hand side of the differential equations.  We don't have to do the update part; the solver does it for us."
   ]
  },
  {
   "cell_type": "code",
   "execution_count": 12,
   "metadata": {},
   "outputs": [],
   "source": [
    "def slope_func(state, t, system):\n",
    "    \"\"\"Computes derivatives of the glucose minimal model.\n",
    "    \n",
    "    state: State object\n",
    "    t: time in min\n",
    "    system: System object\n",
    "    \n",
    "    returns: derivatives of G and X\n",
    "    \"\"\"\n",
    "    G, X = state\n",
    "    unpack(system)\n",
    "    \n",
    "    dGdt = -k1 * (G - Gb) - X*G\n",
    "    dXdt = k3 * (I(t) - Ib) - k2 * X\n",
    "    \n",
    "    return dGdt, dXdt"
   ]
  },
  {
   "cell_type": "markdown",
   "metadata": {},
   "source": [
    "We can test the slope function with the initial conditions."
   ]
  },
  {
   "cell_type": "code",
   "execution_count": 13,
   "metadata": {},
   "outputs": [
    {
     "data": {
      "text/plain": [
       "(-5.9399999999999995, 0.0)"
      ]
     },
     "execution_count": 13,
     "metadata": {},
     "output_type": "execute_result"
    }
   ],
   "source": [
    "slope_func(init, 0, system)"
   ]
  },
  {
   "cell_type": "markdown",
   "metadata": {},
   "source": [
    "Here's how we run the ODE solver."
   ]
  },
  {
   "cell_type": "code",
   "execution_count": 14,
   "metadata": {},
   "outputs": [
    {
     "name": "stdout",
     "output_type": "stream",
     "text": [
      "Wall time: 79.3 ms\n"
     ]
    }
   ],
   "source": [
    "%time results2, details = run_ode_solver(system, slope_func, t_eval=data.index);"
   ]
  },
  {
   "cell_type": "markdown",
   "metadata": {},
   "source": [
    "`details` is a `ModSimSeries` object with information about how the solver worked."
   ]
  },
  {
   "cell_type": "code",
   "execution_count": 15,
   "metadata": {},
   "outputs": [
    {
     "data": {
      "text/html": [
       "<div>\n",
       "<style scoped>\n",
       "    .dataframe tbody tr th:only-of-type {\n",
       "        vertical-align: middle;\n",
       "    }\n",
       "\n",
       "    .dataframe tbody tr th {\n",
       "        vertical-align: top;\n",
       "    }\n",
       "\n",
       "    .dataframe thead th {\n",
       "        text-align: right;\n",
       "    }\n",
       "</style>\n",
       "<table border=\"1\" class=\"dataframe\">\n",
       "  <thead>\n",
       "    <tr style=\"text-align: right;\">\n",
       "      <th></th>\n",
       "      <th>values</th>\n",
       "    </tr>\n",
       "  </thead>\n",
       "  <tbody>\n",
       "    <tr>\n",
       "      <th>sol</th>\n",
       "      <td>None</td>\n",
       "    </tr>\n",
       "    <tr>\n",
       "      <th>t_events</th>\n",
       "      <td>[]</td>\n",
       "    </tr>\n",
       "    <tr>\n",
       "      <th>nfev</th>\n",
       "      <td>80</td>\n",
       "    </tr>\n",
       "    <tr>\n",
       "      <th>njev</th>\n",
       "      <td>0</td>\n",
       "    </tr>\n",
       "    <tr>\n",
       "      <th>nlu</th>\n",
       "      <td>0</td>\n",
       "    </tr>\n",
       "    <tr>\n",
       "      <th>status</th>\n",
       "      <td>0</td>\n",
       "    </tr>\n",
       "    <tr>\n",
       "      <th>message</th>\n",
       "      <td>The solver successfully reached the end of the...</td>\n",
       "    </tr>\n",
       "    <tr>\n",
       "      <th>success</th>\n",
       "      <td>True</td>\n",
       "    </tr>\n",
       "  </tbody>\n",
       "</table>\n",
       "</div>"
      ],
      "text/plain": [
       "sol                                                      None\n",
       "t_events                                                   []\n",
       "nfev                                                       80\n",
       "njev                                                        0\n",
       "nlu                                                         0\n",
       "status                                                      0\n",
       "message     The solver successfully reached the end of the...\n",
       "success                                                  True\n",
       "dtype: object"
      ]
     },
     "execution_count": 15,
     "metadata": {},
     "output_type": "execute_result"
    }
   ],
   "source": [
    "details"
   ]
  },
  {
   "cell_type": "markdown",
   "metadata": {},
   "source": [
    "`results` is a `TimeFrame` with one row for each time step and one column for each state variable:"
   ]
  },
  {
   "cell_type": "code",
   "execution_count": 44,
   "metadata": {},
   "outputs": [
    {
     "data": {
      "text/html": [
       "<div>\n",
       "<style scoped>\n",
       "    .dataframe tbody tr th:only-of-type {\n",
       "        vertical-align: middle;\n",
       "    }\n",
       "\n",
       "    .dataframe tbody tr th {\n",
       "        vertical-align: top;\n",
       "    }\n",
       "\n",
       "    .dataframe thead th {\n",
       "        text-align: right;\n",
       "    }\n",
       "</style>\n",
       "<table border=\"1\" class=\"dataframe\">\n",
       "  <thead>\n",
       "    <tr style=\"text-align: right;\">\n",
       "      <th></th>\n",
       "      <th>G</th>\n",
       "      <th>X</th>\n",
       "    </tr>\n",
       "  </thead>\n",
       "  <tbody>\n",
       "    <tr>\n",
       "      <th>0</th>\n",
       "      <td>290.000000</td>\n",
       "      <td>0.000000</td>\n",
       "    </tr>\n",
       "    <tr>\n",
       "      <th>2</th>\n",
       "      <td>278.441931</td>\n",
       "      <td>0.000148</td>\n",
       "    </tr>\n",
       "    <tr>\n",
       "      <th>4</th>\n",
       "      <td>267.162253</td>\n",
       "      <td>0.001767</td>\n",
       "    </tr>\n",
       "    <tr>\n",
       "      <th>6</th>\n",
       "      <td>255.552173</td>\n",
       "      <td>0.003811</td>\n",
       "    </tr>\n",
       "    <tr>\n",
       "      <th>8</th>\n",
       "      <td>243.778869</td>\n",
       "      <td>0.004825</td>\n",
       "    </tr>\n",
       "    <tr>\n",
       "      <th>10</th>\n",
       "      <td>232.556562</td>\n",
       "      <td>0.005397</td>\n",
       "    </tr>\n",
       "    <tr>\n",
       "      <th>12</th>\n",
       "      <td>221.879405</td>\n",
       "      <td>0.005891</td>\n",
       "    </tr>\n",
       "    <tr>\n",
       "      <th>14</th>\n",
       "      <td>211.755465</td>\n",
       "      <td>0.006272</td>\n",
       "    </tr>\n",
       "    <tr>\n",
       "      <th>16</th>\n",
       "      <td>202.205389</td>\n",
       "      <td>0.006538</td>\n",
       "    </tr>\n",
       "    <tr>\n",
       "      <th>19</th>\n",
       "      <td>188.978971</td>\n",
       "      <td>0.006786</td>\n",
       "    </tr>\n",
       "    <tr>\n",
       "      <th>22</th>\n",
       "      <td>177.025756</td>\n",
       "      <td>0.006967</td>\n",
       "    </tr>\n",
       "    <tr>\n",
       "      <th>27</th>\n",
       "      <td>159.671954</td>\n",
       "      <td>0.007152</td>\n",
       "    </tr>\n",
       "    <tr>\n",
       "      <th>32</th>\n",
       "      <td>145.140578</td>\n",
       "      <td>0.007301</td>\n",
       "    </tr>\n",
       "    <tr>\n",
       "      <th>42</th>\n",
       "      <td>122.899998</td>\n",
       "      <td>0.007327</td>\n",
       "    </tr>\n",
       "    <tr>\n",
       "      <th>52</th>\n",
       "      <td>107.928112</td>\n",
       "      <td>0.006677</td>\n",
       "    </tr>\n",
       "    <tr>\n",
       "      <th>62</th>\n",
       "      <td>98.230846</td>\n",
       "      <td>0.005888</td>\n",
       "    </tr>\n",
       "    <tr>\n",
       "      <th>72</th>\n",
       "      <td>92.105344</td>\n",
       "      <td>0.005019</td>\n",
       "    </tr>\n",
       "    <tr>\n",
       "      <th>82</th>\n",
       "      <td>88.467763</td>\n",
       "      <td>0.004050</td>\n",
       "    </tr>\n",
       "    <tr>\n",
       "      <th>92</th>\n",
       "      <td>86.717777</td>\n",
       "      <td>0.003143</td>\n",
       "    </tr>\n",
       "    <tr>\n",
       "      <th>102</th>\n",
       "      <td>86.066338</td>\n",
       "      <td>0.002382</td>\n",
       "    </tr>\n",
       "    <tr>\n",
       "      <th>122</th>\n",
       "      <td>86.391387</td>\n",
       "      <td>0.001222</td>\n",
       "    </tr>\n",
       "    <tr>\n",
       "      <th>142</th>\n",
       "      <td>88.078120</td>\n",
       "      <td>0.000246</td>\n",
       "    </tr>\n",
       "    <tr>\n",
       "      <th>162</th>\n",
       "      <td>89.951526</td>\n",
       "      <td>-0.000323</td>\n",
       "    </tr>\n",
       "    <tr>\n",
       "      <th>182</th>\n",
       "      <td>91.674908</td>\n",
       "      <td>-0.000798</td>\n",
       "    </tr>\n",
       "  </tbody>\n",
       "</table>\n",
       "</div>"
      ],
      "text/plain": [
       "              G         X\n",
       "0    290.000000  0.000000\n",
       "2    278.441931  0.000148\n",
       "4    267.162253  0.001767\n",
       "6    255.552173  0.003811\n",
       "8    243.778869  0.004825\n",
       "10   232.556562  0.005397\n",
       "12   221.879405  0.005891\n",
       "14   211.755465  0.006272\n",
       "16   202.205389  0.006538\n",
       "19   188.978971  0.006786\n",
       "22   177.025756  0.006967\n",
       "27   159.671954  0.007152\n",
       "32   145.140578  0.007301\n",
       "42   122.899998  0.007327\n",
       "52   107.928112  0.006677\n",
       "62    98.230846  0.005888\n",
       "72    92.105344  0.005019\n",
       "82    88.467763  0.004050\n",
       "92    86.717777  0.003143\n",
       "102   86.066338  0.002382\n",
       "122   86.391387  0.001222\n",
       "142   88.078120  0.000246\n",
       "162   89.951526 -0.000323\n",
       "182   91.674908 -0.000798"
      ]
     },
     "execution_count": 44,
     "metadata": {},
     "output_type": "execute_result"
    }
   ],
   "source": [
    "results2"
   ]
  },
  {
   "cell_type": "markdown",
   "metadata": {},
   "source": [
    "Plotting the results from `run_simulation` and `run_ode_solver`, we can see that they are not very different."
   ]
  },
  {
   "cell_type": "code",
   "execution_count": 45,
   "metadata": {},
   "outputs": [
    {
     "data": {
      "text/plain": [
       "[<matplotlib.lines.Line2D at 0x1e557417e48>]"
      ]
     },
     "execution_count": 45,
     "metadata": {},
     "output_type": "execute_result"
    },
    {
     "data": {
      "image/png": "[encoded data removed]",
      "text/plain": [
       "<Figure size 432x288 with 1 Axes>"
      ]
     },
     "metadata": {},
     "output_type": "display_data"
    }
   ],
   "source": [
    "plot(results.G, 'g-')\n",
    "plot(results2.G, 'b-')\n",
    "plot(data.glucose, 'bo')"
   ]
  },
  {
   "cell_type": "markdown",
   "metadata": {},
   "source": [
    "The differences in `G` are less than 1%."
   ]
  },
  {
   "cell_type": "code",
   "execution_count": 46,
   "metadata": {},
   "outputs": [
    {
     "data": {
      "text/plain": [
       "0     -4.819391\n",
       "2     -4.697295\n",
       "4     -4.528973\n",
       "6     -4.279726\n",
       "8     -3.912560\n",
       "10    -3.588410\n",
       "12    -3.280502\n",
       "14    -2.987776\n",
       "16    -2.714214\n",
       "19    -2.348645\n",
       "22    -2.037855\n",
       "27    -1.634160\n",
       "32    -1.378481\n",
       "42    -1.327598\n",
       "52    -1.807321\n",
       "62    -2.644026\n",
       "72    -3.567679\n",
       "82    -4.457651\n",
       "92    -5.419893\n",
       "102   -6.163360\n",
       "122   -7.013958\n",
       "142   -7.477197\n",
       "162   -7.386239\n",
       "182   -6.907318\n",
       "Name: G, dtype: float64"
      ]
     },
     "execution_count": 46,
     "metadata": {},
     "output_type": "execute_result"
    }
   ],
   "source": [
    "diff = results.G - results2.G\n",
    "percent_diff = diff / results2.G * 100\n",
    "percent_diff.dropna()"
   ]
  },
  {
   "cell_type": "markdown",
   "metadata": {},
   "source": [
    "### Optimization"
   ]
  },
  {
   "cell_type": "markdown",
   "metadata": {},
   "source": [
    "Now let's find the parameters that yield the best fit for the data.  "
   ]
  },
  {
   "cell_type": "markdown",
   "metadata": {},
   "source": [
    "We'll use these values as an initial estimate and iteratively improve them."
   ]
  },
  {
   "cell_type": "code",
   "execution_count": 47,
   "metadata": {},
   "outputs": [
    {
     "data": {
      "text/html": [
       "<div>\n",
       "<style scoped>\n",
       "    .dataframe tbody tr th:only-of-type {\n",
       "        vertical-align: middle;\n",
       "    }\n",
       "\n",
       "    .dataframe tbody tr th {\n",
       "        vertical-align: top;\n",
       "    }\n",
       "\n",
       "    .dataframe thead th {\n",
       "        text-align: right;\n",
       "    }\n",
       "</style>\n",
       "<table border=\"1\" class=\"dataframe\">\n",
       "  <thead>\n",
       "    <tr style=\"text-align: right;\">\n",
       "      <th></th>\n",
       "      <th>values</th>\n",
       "    </tr>\n",
       "  </thead>\n",
       "  <tbody>\n",
       "    <tr>\n",
       "      <th>G0</th>\n",
       "      <td>290.00000</td>\n",
       "    </tr>\n",
       "    <tr>\n",
       "      <th>k1</th>\n",
       "      <td>0.03000</td>\n",
       "    </tr>\n",
       "    <tr>\n",
       "      <th>k2</th>\n",
       "      <td>0.02000</td>\n",
       "    </tr>\n",
       "    <tr>\n",
       "      <th>k3</th>\n",
       "      <td>0.00001</td>\n",
       "    </tr>\n",
       "  </tbody>\n",
       "</table>\n",
       "</div>"
      ],
      "text/plain": [
       "G0    290.00000\n",
       "k1      0.03000\n",
       "k2      0.02000\n",
       "k3      0.00001\n",
       "dtype: float64"
      ]
     },
     "execution_count": 47,
     "metadata": {},
     "output_type": "execute_result"
    }
   ],
   "source": [
    "params = Params(G0 = 290,\n",
    "                k1 = 0.03,\n",
    "                k2 = 0.02,\n",
    "                k3 = 1e-05)"
   ]
  },
  {
   "cell_type": "markdown",
   "metadata": {},
   "source": [
    "`make_system` takes the parameters and actual data and returns a `System` object."
   ]
  },
  {
   "cell_type": "code",
   "execution_count": 90,
   "metadata": {},
   "outputs": [],
   "source": [
    "def make_system(params, data):\n",
    "    \"\"\"Makes a System object with the given parameters.\n",
    "    \n",
    "    params: sequence of G0, k1, k2, k3\n",
    "    data: DataFrame with `glucose` and `insulin`\n",
    "    \n",
    "    returns: System object\n",
    "    \"\"\"\n",
    "    G0, k1, k2, k3 = params\n",
    "    \n",
    "    Gb = data.glucose[0]\n",
    "    Ib = data.insulin[0]\n",
    "    \n",
    "    t_0 = get_first_label(data)\n",
    "    t_end = get_last_label(data)\n",
    "\n",
    "    init = State(G=G0, X=0)\n",
    "    \n",
    "    return System(G0=G0, k1=k1, k2=k2, k3=k3,\n",
    "                  init=init, Gb=Gb, Ib=Ib,\n",
    "                  t_0=t_0, t_end=t_end)"
   ]
  },
  {
   "cell_type": "code",
   "execution_count": 91,
   "metadata": {},
   "outputs": [
    {
     "data": {
      "text/html": [
       "<div>\n",
       "<style scoped>\n",
       "    .dataframe tbody tr th:only-of-type {\n",
       "        vertical-align: middle;\n",
       "    }\n",
       "\n",
       "    .dataframe tbody tr th {\n",
       "        vertical-align: top;\n",
       "    }\n",
       "\n",
       "    .dataframe thead th {\n",
       "        text-align: right;\n",
       "    }\n",
       "</style>\n",
       "<table border=\"1\" class=\"dataframe\">\n",
       "  <thead>\n",
       "    <tr style=\"text-align: right;\">\n",
       "      <th></th>\n",
       "      <th>values</th>\n",
       "    </tr>\n",
       "  </thead>\n",
       "  <tbody>\n",
       "    <tr>\n",
       "      <th>G0</th>\n",
       "      <td>290</td>\n",
       "    </tr>\n",
       "    <tr>\n",
       "      <th>k1</th>\n",
       "      <td>0.03</td>\n",
       "    </tr>\n",
       "    <tr>\n",
       "      <th>k2</th>\n",
       "      <td>0.02</td>\n",
       "    </tr>\n",
       "    <tr>\n",
       "      <th>k3</th>\n",
       "      <td>1e-05</td>\n",
       "    </tr>\n",
       "    <tr>\n",
       "      <th>init</th>\n",
       "      <td>G    290.0\n",
       "X      0.0\n",
       "dtype: float64</td>\n",
       "    </tr>\n",
       "    <tr>\n",
       "      <th>Gb</th>\n",
       "      <td>92</td>\n",
       "    </tr>\n",
       "    <tr>\n",
       "      <th>Ib</th>\n",
       "      <td>11</td>\n",
       "    </tr>\n",
       "    <tr>\n",
       "      <th>t_0</th>\n",
       "      <td>0</td>\n",
       "    </tr>\n",
       "    <tr>\n",
       "      <th>t_end</th>\n",
       "      <td>182</td>\n",
       "    </tr>\n",
       "  </tbody>\n",
       "</table>\n",
       "</div>"
      ],
      "text/plain": [
       "G0                                        290\n",
       "k1                                       0.03\n",
       "k2                                       0.02\n",
       "k3                                      1e-05\n",
       "init     G    290.0\n",
       "X      0.0\n",
       "dtype: float64\n",
       "Gb                                         92\n",
       "Ib                                         11\n",
       "t_0                                         0\n",
       "t_end                                     182\n",
       "dtype: object"
      ]
     },
     "execution_count": 91,
     "metadata": {},
     "output_type": "execute_result"
    }
   ],
   "source": [
    "system = make_system(params, data)"
   ]
  },
  {
   "cell_type": "markdown",
   "metadata": {},
   "source": [
    "`error_func` takes the parameters and actual data, makes a `System` object, and runs `odeint`, then compares the results to the data.  It returns an array of errors."
   ]
  },
  {
   "cell_type": "code",
   "execution_count": 92,
   "metadata": {},
   "outputs": [],
   "source": [
    "def error_func(params, data):\n",
    "    \"\"\"Computes an array of errors to be minimized.\n",
    "    \n",
    "    params: sequence of parameters\n",
    "    data: DataFrame of values to be matched\n",
    "    \n",
    "    returns: array of errors\n",
    "    \"\"\"\n",
    "    print(params)\n",
    "    \n",
    "    # make a System with the given parameters\n",
    "    system = make_system(params, data)\n",
    "    \n",
    "    # solve the ODE\n",
    "    results, details = run_ode_solver(system, slope_func, t_eval=data.index)\n",
    "    \n",
    "    # compute the difference between the model\n",
    "    # results and actual data\n",
    "    errors = results.G - data.glucose\n",
    "    return errors"
   ]
  },
  {
   "cell_type": "markdown",
   "metadata": {},
   "source": [
    "When we call `error_func`, we provide a sequence of parameters as a single object."
   ]
  },
  {
   "cell_type": "markdown",
   "metadata": {},
   "source": [
    "Here's how that works:"
   ]
  },
  {
   "cell_type": "code",
   "execution_count": 93,
   "metadata": {},
   "outputs": [
    {
     "name": "stdout",
     "output_type": "stream",
     "text": [
      "G0    290.00000\n",
      "k1      0.03000\n",
      "k2      0.02000\n",
      "k3      0.00001\n",
      "dtype: float64\n"
     ]
    },
    {
     "data": {
      "text/plain": [
       "0      198.000000\n",
       "2      -71.558069\n",
       "4      -19.837747\n",
       "6        4.552173\n",
       "8        3.778869\n",
       "10      16.556562\n",
       "12      10.879405\n",
       "14       6.755465\n",
       "16       6.205389\n",
       "19      -3.021029\n",
       "22       5.025756\n",
       "27      -3.328046\n",
       "32       3.140578\n",
       "42      -1.100002\n",
       "52       2.928112\n",
       "62       6.230846\n",
       "72       8.105344\n",
       "82      11.467763\n",
       "92       4.717777\n",
       "102      5.066338\n",
       "122      4.391387\n",
       "142      6.078120\n",
       "162      4.951526\n",
       "182      1.674908\n",
       "dtype: float64"
      ]
     },
     "execution_count": 93,
     "metadata": {},
     "output_type": "execute_result"
    }
   ],
   "source": [
    "error_func(params, data)"
   ]
  },
  {
   "cell_type": "markdown",
   "metadata": {},
   "source": [
    "`fit_leastsq` is a wrapper for `scipy.optimize.leastsq`"
   ]
  },
  {
   "cell_type": "markdown",
   "metadata": {},
   "source": [
    "Here's how we call it."
   ]
  },
  {
   "cell_type": "code",
   "execution_count": 94,
   "metadata": {},
   "outputs": [
    {
     "name": "stdout",
     "output_type": "stream",
     "text": [
      "[2.9e+02 3.0e-02 2.0e-02 1.0e-05]\n",
      "[2.9e+02 3.0e-02 2.0e-02 1.0e-05]\n",
      "[2.9e+02 3.0e-02 2.0e-02 1.0e-05]\n",
      "[2.90000004e+02 3.00000000e-02 2.00000000e-02 1.00000000e-05]\n",
      "[2.90000000e+02 3.00000004e-02 2.00000000e-02 1.00000000e-05]\n",
      "[2.90000000e+02 3.00000000e-02 2.00000003e-02 1.00000000e-05]\n",
      "[2.90000000e+02 3.00000000e-02 2.00000000e-02 1.00000001e-05]\n",
      "[ 2.43786323e+02  1.61767200e-02 -6.48609735e-03  7.89127092e-06]\n",
      "[2.64108612e+02 2.45750702e-02 1.38663695e-02 9.55804438e-06]\n",
      "[2.64108616e+02 2.45750702e-02 1.38663695e-02 9.55804438e-06]\n",
      "[2.64108612e+02 2.45750705e-02 1.38663695e-02 9.55804438e-06]\n",
      "[2.64108612e+02 2.45750702e-02 1.38663697e-02 9.55804438e-06]\n",
      "[2.64108612e+02 2.45750702e-02 1.38663695e-02 9.55804452e-06]\n",
      "[2.49160249e+02 1.81928371e-02 9.60755217e-03 9.15038103e-06]\n",
      "[2.49160253e+02 1.81928371e-02 9.60755217e-03 9.15038103e-06]\n",
      "[2.49160249e+02 1.81928374e-02 9.60755217e-03 9.15038103e-06]\n",
      "[2.49160249e+02 1.81928371e-02 9.60755231e-03 9.15038103e-06]\n",
      "[2.49160249e+02 1.81928371e-02 9.60755217e-03 9.15038117e-06]\n",
      "[2.52115946e+02 1.97152089e-02 1.46532510e-02 9.49382276e-06]\n",
      "[2.52115950e+02 1.97152089e-02 1.46532510e-02 9.49382276e-06]\n",
      "[2.52115946e+02 1.97152092e-02 1.46532510e-02 9.49382276e-06]\n",
      "[2.52115946e+02 1.97152089e-02 1.46532512e-02 9.49382276e-06]\n",
      "[2.52115946e+02 1.97152089e-02 1.46532510e-02 9.49382290e-06]\n",
      "[2.52276886e+02 2.01214264e-02 1.21622032e-02 9.24501733e-06]\n",
      "[2.52471304e+02 2.02519961e-02 1.36475169e-02 9.40100589e-06]\n",
      "[2.52466192e+02 2.02655487e-02 1.44569165e-02 9.48541030e-06]\n",
      "[2.51971944e+02 1.97951344e-02 1.46317337e-02 9.49563253e-06]\n",
      "[2.52048100e+02 1.97427437e-02 1.46442682e-02 9.49462614e-06]\n",
      "[2.52048104e+02 1.97427437e-02 1.46442682e-02 9.49462614e-06]\n",
      "[2.52048100e+02 1.97427440e-02 1.46442682e-02 9.49462614e-06]\n",
      "[2.52048100e+02 1.97427437e-02 1.46442684e-02 9.49462614e-06]\n",
      "[2.52048100e+02 1.97427437e-02 1.46442682e-02 9.49462628e-06]\n",
      "[2.52039202e+02 1.97619376e-02 1.46453496e-02 9.49451084e-06]\n",
      "[2.52044619e+02 1.97509917e-02 1.46447494e-02 9.49457521e-06]\n",
      "[2.52047717e+02 1.97437152e-02 1.46443261e-02 9.49462004e-06]\n",
      "[2.52047721e+02 1.97437152e-02 1.46443261e-02 9.49462004e-06]\n",
      "[2.52047717e+02 1.97437154e-02 1.46443261e-02 9.49462004e-06]\n",
      "[2.52047717e+02 1.97437152e-02 1.46443263e-02 9.49462004e-06]\n",
      "[2.52047717e+02 1.97437152e-02 1.46443261e-02 9.49462018e-06]\n",
      "[2.52045692e+02 1.97448177e-02 1.46443483e-02 9.49461698e-06]\n",
      "[2.52045696e+02 1.97448177e-02 1.46443483e-02 9.49461698e-06]\n",
      "[2.52045692e+02 1.97448180e-02 1.46443483e-02 9.49461698e-06]\n",
      "[2.52045692e+02 1.97448177e-02 1.46443485e-02 9.49461698e-06]\n",
      "[2.52045692e+02 1.97448177e-02 1.46443483e-02 9.49461712e-06]\n",
      "[2.52040757e+02 1.97469805e-02 1.46443643e-02 9.49461343e-06]\n",
      "[2.52040761e+02 1.97469805e-02 1.46443643e-02 9.49461343e-06]\n",
      "[2.52040757e+02 1.97469808e-02 1.46443643e-02 9.49461343e-06]\n",
      "[2.52040757e+02 1.97469805e-02 1.46443645e-02 9.49461343e-06]\n",
      "[2.52040757e+02 1.97469805e-02 1.46443643e-02 9.49461358e-06]\n",
      "[2.52031210e+02 1.97512054e-02 1.46443924e-02 9.49460674e-06]\n",
      "[2.52031214e+02 1.97512054e-02 1.46443924e-02 9.49460674e-06]\n",
      "[2.52031210e+02 1.97512057e-02 1.46443924e-02 9.49460674e-06]\n",
      "[2.52031210e+02 1.97512054e-02 1.46443927e-02 9.49460674e-06]\n",
      "[2.52031210e+02 1.97512054e-02 1.46443924e-02 9.49460688e-06]\n",
      "[2.52008096e+02 1.97511492e-02 1.46442592e-02 9.49461867e-06]\n",
      "[2.52008099e+02 1.97511492e-02 1.46442592e-02 9.49461867e-06]\n",
      "[2.52008096e+02 1.97511495e-02 1.46442592e-02 9.49461867e-06]\n",
      "[2.52008096e+02 1.97511492e-02 1.46442595e-02 9.49461867e-06]\n",
      "[2.52008096e+02 1.97511492e-02 1.46442592e-02 9.49461881e-06]\n",
      "[2.51988617e+02 1.97540423e-02 1.46442710e-02 9.49461568e-06]\n",
      "[2.51988621e+02 1.97540423e-02 1.46442710e-02 9.49461568e-06]\n",
      "[2.51988617e+02 1.97540426e-02 1.46442710e-02 9.49461568e-06]\n",
      "[2.51988617e+02 1.97540423e-02 1.46442712e-02 9.49461568e-06]\n",
      "[2.51988617e+02 1.97540423e-02 1.46442710e-02 9.49461582e-06]\n",
      "[2.51954220e+02 1.97596514e-02 1.46442963e-02 9.49460955e-06]\n",
      "[2.51954224e+02 1.97596514e-02 1.46442963e-02 9.49460955e-06]\n",
      "[2.51954220e+02 1.97596517e-02 1.46442963e-02 9.49460955e-06]\n",
      "[2.51954220e+02 1.97596514e-02 1.46442965e-02 9.49460955e-06]\n",
      "[2.51954220e+02 1.97596514e-02 1.46442963e-02 9.49460969e-06]\n",
      "[2.51935957e+02 1.97720021e-02 1.46446821e-02 9.49456639e-06]\n",
      "[2.51951409e+02 1.97614185e-02 1.46443528e-02 9.49460327e-06]\n",
      "[2.51952830e+02 1.97605198e-02 1.46443241e-02 9.49460646e-06]\n",
      "[2.51952834e+02 1.97605198e-02 1.46443241e-02 9.49460646e-06]\n",
      "[2.51952830e+02 1.97605201e-02 1.46443241e-02 9.49460646e-06]\n",
      "[2.51952830e+02 1.97605198e-02 1.46443243e-02 9.49460646e-06]\n",
      "[2.51952830e+02 1.97605198e-02 1.46443241e-02 9.49460660e-06]\n",
      "[2.51947846e+02 1.97604142e-02 1.46442892e-02 9.49460963e-06]\n",
      "[2.51947850e+02 1.97604142e-02 1.46442892e-02 9.49460963e-06]\n",
      "[2.51947846e+02 1.97604145e-02 1.46442892e-02 9.49460963e-06]\n",
      "[2.51947846e+02 1.97604142e-02 1.46442894e-02 9.49460963e-06]\n",
      "[2.51947846e+02 1.97604142e-02 1.46442892e-02 9.49460978e-06]\n",
      "[2.51947231e+02 1.97608178e-02 1.46443022e-02 9.49460819e-06]\n",
      "[2.51947234e+02 1.97608178e-02 1.46443022e-02 9.49460819e-06]\n",
      "[2.51947231e+02 1.97608181e-02 1.46443022e-02 9.49460819e-06]\n",
      "[2.51947231e+02 1.97608178e-02 1.46443024e-02 9.49460819e-06]\n",
      "[2.51947231e+02 1.97608178e-02 1.46443022e-02 9.49460833e-06]\n",
      "[2.51945814e+02 1.97616272e-02 1.46443271e-02 9.49460541e-06]\n",
      "[2.51946623e+02 1.97611640e-02 1.46443129e-02 9.49460700e-06]\n",
      "[2.51946626e+02 1.97611640e-02 1.46443129e-02 9.49460700e-06]\n",
      "[2.51946623e+02 1.97611643e-02 1.46443129e-02 9.49460700e-06]\n",
      "[2.51946623e+02 1.97611640e-02 1.46443131e-02 9.49460700e-06]\n",
      "[2.51946623e+02 1.97611640e-02 1.46443129e-02 9.49460714e-06]\n",
      "[2.51945570e+02 1.97611399e-02 1.46443054e-02 9.49460768e-06]\n",
      "[2.51945574e+02 1.97611399e-02 1.46443054e-02 9.49460768e-06]\n",
      "[2.51945570e+02 1.97611402e-02 1.46443054e-02 9.49460768e-06]\n",
      "[2.51945570e+02 1.97611399e-02 1.46443056e-02 9.49460768e-06]\n",
      "[2.51945570e+02 1.97611399e-02 1.46443054e-02 9.49460782e-06]\n",
      "[2.51943482e+02 1.97610982e-02 1.46442909e-02 9.49460900e-06]\n",
      "[2.51944693e+02 1.97611216e-02 1.46442993e-02 9.49460824e-06]\n",
      "[2.51945177e+02 1.97611316e-02 1.46443026e-02 9.49460793e-06]\n",
      "[2.51945181e+02 1.97611316e-02 1.46443026e-02 9.49460793e-06]\n",
      "[2.51945177e+02 1.97611319e-02 1.46443026e-02 9.49460793e-06]\n",
      "[2.51945177e+02 1.97611316e-02 1.46443029e-02 9.49460793e-06]\n",
      "[2.51945177e+02 1.97611316e-02 1.46443026e-02 9.49460807e-06]\n",
      "[2.51945119e+02 1.97611639e-02 1.46443036e-02 9.49460782e-06]\n",
      "[2.51945123e+02 1.97611639e-02 1.46443036e-02 9.49460782e-06]\n",
      "[2.51945119e+02 1.97611642e-02 1.46443036e-02 9.49460782e-06]\n",
      "[2.51945119e+02 1.97611639e-02 1.46443038e-02 9.49460782e-06]\n",
      "[2.51945119e+02 1.97611639e-02 1.46443036e-02 9.49460796e-06]\n",
      "[2.51945003e+02 1.97612285e-02 1.46443056e-02 9.49460760e-06]\n",
      "[2.51945006e+02 1.97612285e-02 1.46443056e-02 9.49460760e-06]\n",
      "[2.51945003e+02 1.97612288e-02 1.46443056e-02 9.49460760e-06]\n",
      "[2.51945003e+02 1.97612285e-02 1.46443058e-02 9.49460760e-06]\n",
      "[2.51945003e+02 1.97612285e-02 1.46443056e-02 9.49460774e-06]\n",
      "[2.51944806e+02 1.97612242e-02 1.46443042e-02 9.49460773e-06]\n",
      "[2.51944810e+02 1.97612242e-02 1.46443042e-02 9.49460773e-06]\n",
      "[2.51944806e+02 1.97612245e-02 1.46443042e-02 9.49460773e-06]\n",
      "[2.51944806e+02 1.97612242e-02 1.46443044e-02 9.49460773e-06]\n",
      "[2.51944806e+02 1.97612242e-02 1.46443042e-02 9.49460787e-06]\n",
      "[2.51944363e+02 1.97612148e-02 1.46443011e-02 9.49460773e-06]\n",
      "[2.51944588e+02 1.97612196e-02 1.46443027e-02 9.49460773e-06]\n"
     ]
    }
   ],
   "source": [
    "best_params, fit_details = fit_leastsq(error_func, params, data)"
   ]
  },
  {
   "cell_type": "markdown",
   "metadata": {},
   "source": [
    "The first return value is a `Params` object with the best parameters:"
   ]
  },
  {
   "cell_type": "code",
   "execution_count": 95,
   "metadata": {},
   "outputs": [
    {
     "data": {
      "text/html": [
       "<div>\n",
       "<style scoped>\n",
       "    .dataframe tbody tr th:only-of-type {\n",
       "        vertical-align: middle;\n",
       "    }\n",
       "\n",
       "    .dataframe tbody tr th {\n",
       "        vertical-align: top;\n",
       "    }\n",
       "\n",
       "    .dataframe thead th {\n",
       "        text-align: right;\n",
       "    }\n",
       "</style>\n",
       "<table border=\"1\" class=\"dataframe\">\n",
       "  <thead>\n",
       "    <tr style=\"text-align: right;\">\n",
       "      <th></th>\n",
       "      <th>values</th>\n",
       "    </tr>\n",
       "  </thead>\n",
       "  <tbody>\n",
       "    <tr>\n",
       "      <th>G0</th>\n",
       "      <td>251.944588</td>\n",
       "    </tr>\n",
       "    <tr>\n",
       "      <th>k1</th>\n",
       "      <td>0.019761</td>\n",
       "    </tr>\n",
       "    <tr>\n",
       "      <th>k2</th>\n",
       "      <td>0.014644</td>\n",
       "    </tr>\n",
       "    <tr>\n",
       "      <th>k3</th>\n",
       "      <td>0.000009</td>\n",
       "    </tr>\n",
       "  </tbody>\n",
       "</table>\n",
       "</div>"
      ],
      "text/plain": [
       "G0    251.944588\n",
       "k1      0.019761\n",
       "k2      0.014644\n",
       "k3      0.000009\n",
       "dtype: float64"
      ]
     },
     "execution_count": 95,
     "metadata": {},
     "output_type": "execute_result"
    }
   ],
   "source": [
    "best_params"
   ]
  },
  {
   "cell_type": "markdown",
   "metadata": {},
   "source": [
    "The second return value is a `ModSimSeries` object with information about the results."
   ]
  },
  {
   "cell_type": "code",
   "execution_count": 96,
   "metadata": {},
   "outputs": [
    {
     "data": {
      "text/html": [
       "<div>\n",
       "<style scoped>\n",
       "    .dataframe tbody tr th:only-of-type {\n",
       "        vertical-align: middle;\n",
       "    }\n",
       "\n",
       "    .dataframe tbody tr th {\n",
       "        vertical-align: top;\n",
       "    }\n",
       "\n",
       "    .dataframe thead th {\n",
       "        text-align: right;\n",
       "    }\n",
       "</style>\n",
       "<table border=\"1\" class=\"dataframe\">\n",
       "  <thead>\n",
       "    <tr style=\"text-align: right;\">\n",
       "      <th></th>\n",
       "      <th>values</th>\n",
       "    </tr>\n",
       "  </thead>\n",
       "  <tbody>\n",
       "    <tr>\n",
       "      <th>fvec</th>\n",
       "      <td>[159.944588219575, -104.27659960371093, -47.59...</td>\n",
       "    </tr>\n",
       "    <tr>\n",
       "      <th>nfev</th>\n",
       "      <td>119</td>\n",
       "    </tr>\n",
       "    <tr>\n",
       "      <th>fjac</th>\n",
       "      <td>[[-1992377962.6452265, -4672.587526036756, -31...</td>\n",
       "    </tr>\n",
       "    <tr>\n",
       "      <th>ipvt</th>\n",
       "      <td>[4, 3, 2, 1]</td>\n",
       "    </tr>\n",
       "    <tr>\n",
       "      <th>qtf</th>\n",
       "      <td>[-0.0007600741683404522, 3.163622306853597, -2...</td>\n",
       "    </tr>\n",
       "    <tr>\n",
       "      <th>cov_x</th>\n",
       "      <td>[[0.2634495178644443, 8.200553507149606e-05, -...</td>\n",
       "    </tr>\n",
       "    <tr>\n",
       "      <th>mesg</th>\n",
       "      <td>The relative error between two consecutive ite...</td>\n",
       "    </tr>\n",
       "    <tr>\n",
       "      <th>ier</th>\n",
       "      <td>2</td>\n",
       "    </tr>\n",
       "  </tbody>\n",
       "</table>\n",
       "</div>"
      ],
      "text/plain": [
       "fvec     [159.944588219575, -104.27659960371093, -47.59...\n",
       "nfev                                                   119\n",
       "fjac     [[-1992377962.6452265, -4672.587526036756, -31...\n",
       "ipvt                                          [4, 3, 2, 1]\n",
       "qtf      [-0.0007600741683404522, 3.163622306853597, -2...\n",
       "cov_x    [[0.2634495178644443, 8.200553507149606e-05, -...\n",
       "mesg     The relative error between two consecutive ite...\n",
       "ier                                                      2\n",
       "dtype: object"
      ]
     },
     "execution_count": 96,
     "metadata": {},
     "output_type": "execute_result"
    }
   ],
   "source": [
    "fit_details"
   ]
  },
  {
   "cell_type": "code",
   "execution_count": 97,
   "metadata": {},
   "outputs": [
    {
     "data": {
      "text/html": [
       "<div>\n",
       "<style scoped>\n",
       "    .dataframe tbody tr th:only-of-type {\n",
       "        vertical-align: middle;\n",
       "    }\n",
       "\n",
       "    .dataframe tbody tr th {\n",
       "        vertical-align: top;\n",
       "    }\n",
       "\n",
       "    .dataframe thead th {\n",
       "        text-align: right;\n",
       "    }\n",
       "</style>\n",
       "<table border=\"1\" class=\"dataframe\">\n",
       "  <thead>\n",
       "    <tr style=\"text-align: right;\">\n",
       "      <th></th>\n",
       "      <th>values</th>\n",
       "    </tr>\n",
       "  </thead>\n",
       "  <tbody>\n",
       "    <tr>\n",
       "      <th>fvec</th>\n",
       "      <td>[159.944588219575, -104.27659960371093, -47.59...</td>\n",
       "    </tr>\n",
       "    <tr>\n",
       "      <th>nfev</th>\n",
       "      <td>119</td>\n",
       "    </tr>\n",
       "    <tr>\n",
       "      <th>fjac</th>\n",
       "      <td>[[-1992377962.6452265, -4672.587526036756, -31...</td>\n",
       "    </tr>\n",
       "    <tr>\n",
       "      <th>ipvt</th>\n",
       "      <td>[4, 3, 2, 1]</td>\n",
       "    </tr>\n",
       "    <tr>\n",
       "      <th>qtf</th>\n",
       "      <td>[-0.0007600741683404522, 3.163622306853597, -2...</td>\n",
       "    </tr>\n",
       "    <tr>\n",
       "      <th>cov_x</th>\n",
       "      <td>[[0.2634495178644443, 8.200553507149606e-05, -...</td>\n",
       "    </tr>\n",
       "    <tr>\n",
       "      <th>mesg</th>\n",
       "      <td>The relative error between two consecutive ite...</td>\n",
       "    </tr>\n",
       "    <tr>\n",
       "      <th>ier</th>\n",
       "      <td>2</td>\n",
       "    </tr>\n",
       "  </tbody>\n",
       "</table>\n",
       "</div>"
      ],
      "text/plain": [
       "fvec     [159.944588219575, -104.27659960371093, -47.59...\n",
       "nfev                                                   119\n",
       "fjac     [[-1992377962.6452265, -4672.587526036756, -31...\n",
       "ipvt                                          [4, 3, 2, 1]\n",
       "qtf      [-0.0007600741683404522, 3.163622306853597, -2...\n",
       "cov_x    [[0.2634495178644443, 8.200553507149606e-05, -...\n",
       "mesg     The relative error between two consecutive ite...\n",
       "ier                                                      2\n",
       "dtype: object"
      ]
     },
     "execution_count": 97,
     "metadata": {},
     "output_type": "execute_result"
    }
   ],
   "source": [
    "fit_details"
   ]
  },
  {
   "cell_type": "markdown",
   "metadata": {},
   "source": [
    "Now that we have `best_params`, we can use it to make a `System` object and run it."
   ]
  },
  {
   "cell_type": "code",
   "execution_count": 98,
   "metadata": {},
   "outputs": [
    {
     "data": {
      "text/plain": [
       "'The solver successfully reached the end of the integration interval.'"
      ]
     },
     "execution_count": 98,
     "metadata": {},
     "output_type": "execute_result"
    }
   ],
   "source": [
    "system = make_system(best_params, data)\n",
    "results, details = run_ode_solver(system, slope_func, t_eval=data.index)\n",
    "details.message"
   ]
  },
  {
   "cell_type": "markdown",
   "metadata": {},
   "source": [
    "Here are the results, along with the data.  The first few points of the model don't fit the data, but we don't expect them to."
   ]
  },
  {
   "cell_type": "code",
   "execution_count": 99,
   "metadata": {},
   "outputs": [
    {
     "name": "stdout",
     "output_type": "stream",
     "text": [
      "Saving figure to file figs/chap08-fig04.pdf\n"
     ]
    },
    {
     "data": {
      "image/png": "[encoded data removed]",
      "text/plain": [
       "<Figure size 432x288 with 1 Axes>"
      ]
     },
     "metadata": {},
     "output_type": "display_data"
    }
   ],
   "source": [
    "plot(results.G, label='simulation')\n",
    "plot(data.glucose, 'bo', label='glucose data')\n",
    "\n",
    "decorate(xlabel='Time (min)',\n",
    "         ylabel='Concentration (mg/dL)')\n",
    "\n",
    "savefig('figs/chap08-fig04.pdf')"
   ]
  },
  {
   "cell_type": "markdown",
   "metadata": {},
   "source": [
    "### Interpreting parameters\n",
    "\n",
    "Based on the parameters of the model, we can estimate glucose effectiveness and insulin sensitivity."
   ]
  },
  {
   "cell_type": "code",
   "execution_count": 101,
   "metadata": {},
   "outputs": [],
   "source": [
    "def indices(params):\n",
    "    \"\"\"Compute glucose effectiveness and insulin sensitivity.\n",
    "    \n",
    "    params: sequence of G0, k1, k2, k3\n",
    "    data: DataFrame with `glucose` and `insulin`\n",
    "    \n",
    "    returns: State object containing S_G and S_I\n",
    "    \"\"\"\n",
    "    G0, k1, k2, k3 = params\n",
    "    return State(S_G=k1, S_I=k3/k2)"
   ]
  },
  {
   "cell_type": "markdown",
   "metadata": {},
   "source": [
    "Here are the results."
   ]
  },
  {
   "cell_type": "code",
   "execution_count": 102,
   "metadata": {},
   "outputs": [
    {
     "data": {
      "text/html": [
       "<div>\n",
       "<style scoped>\n",
       "    .dataframe tbody tr th:only-of-type {\n",
       "        vertical-align: middle;\n",
       "    }\n",
       "\n",
       "    .dataframe tbody tr th {\n",
       "        vertical-align: top;\n",
       "    }\n",
       "\n",
       "    .dataframe thead th {\n",
       "        text-align: right;\n",
       "    }\n",
       "</style>\n",
       "<table border=\"1\" class=\"dataframe\">\n",
       "  <thead>\n",
       "    <tr style=\"text-align: right;\">\n",
       "      <th></th>\n",
       "      <th>values</th>\n",
       "    </tr>\n",
       "  </thead>\n",
       "  <tbody>\n",
       "    <tr>\n",
       "      <th>S_G</th>\n",
       "      <td>0.019761</td>\n",
       "    </tr>\n",
       "    <tr>\n",
       "      <th>S_I</th>\n",
       "      <td>0.000648</td>\n",
       "    </tr>\n",
       "  </tbody>\n",
       "</table>\n",
       "</div>"
      ],
      "text/plain": [
       "S_G    0.019761\n",
       "S_I    0.000648\n",
       "dtype: float64"
      ]
     },
     "execution_count": 102,
     "metadata": {},
     "output_type": "execute_result"
    }
   ],
   "source": [
    "indices(best_params)"
   ]
  },
  {
   "cell_type": "markdown",
   "metadata": {},
   "source": [
    "### Under the hood\n",
    "\n",
    "Here's the source code for `run_ode_solver` and `fit_leastsq`, if you'd like to know how they work."
   ]
  },
  {
   "cell_type": "code",
   "execution_count": 103,
   "metadata": {},
   "outputs": [],
   "source": [
    "%psource run_ode_solver"
   ]
  },
  {
   "cell_type": "code",
   "execution_count": 104,
   "metadata": {},
   "outputs": [],
   "source": [
    "%psource fit_leastsq"
   ]
  },
  {
   "cell_type": "markdown",
   "metadata": {},
   "source": [
    "## Exercises\n",
    "\n",
    "**Exercise:** Since we don't expect the first few points to agree, it's probably better not to make them part of the optimization process.  We can ignore them by leaving them out of the `Series` returned by `error_func`.  Modify the last line of `error_func` to return `errors.loc[8:]`, which includes only the elements of the `Series` from `t=8` and up.\n",
    "\n",
    "Does that improve the quality of the fit?  Does it change the best parameters by much?\n",
    "\n",
    "Note: You can read more about this use of `loc` [in the Pandas documentation](https://pandas.pydata.org/pandas-docs/stable/indexing.html#indexing-integer)."
   ]
  },
  {
   "cell_type": "markdown",
   "metadata": {},
   "source": [
    "**Exercise:** How sensitive are the results to the starting guess for the parameters.  If you try different values for the starting guess, do we get the same values for the best parameters?"
   ]
  },
  {
   "cell_type": "markdown",
   "metadata": {},
   "source": [
    "**Related reading:** You might be interested in this article about [people making a DIY artificial pancreas](https://www.bloomberg.com/news/features/2018-08-08/the-250-biohack-that-s-revolutionizing-life-with-diabetes)."
   ]
  },
  {
   "cell_type": "code",
   "execution_count": 85,
   "metadata": {},
   "outputs": [],
   "source": [
    "def error_func(params, data):\n",
    "    \"\"\"Computes an array of errors to be minimized.\n",
    "    \n",
    "    params: sequence of parameters\n",
    "    data: DataFrame of values to be matched\n",
    "    \n",
    "    returns: array of errors\n",
    "    \"\"\"\n",
    "    print(params)\n",
    "    \n",
    "    # make a System with the given parameters\n",
    "    system = make_system(params, data)\n",
    "    \n",
    "    # solve the ODE\n",
    "    results, details = run_ode_solver(system, slope_func, t_eval=data.index)\n",
    "    \n",
    "    # compute the difference between the model\n",
    "    # results and actual data\n",
    "    errors = results.G - data.glucose\n",
    "    return errors.loc[8:]"
   ]
  },
  {
   "cell_type": "code",
   "execution_count": 86,
   "metadata": {},
   "outputs": [
    {
     "name": "stdout",
     "output_type": "stream",
     "text": [
      "G0    290.00000\n",
      "k1      0.03000\n",
      "k2      0.02000\n",
      "k3      0.00001\n",
      "dtype: float64\n"
     ]
    },
    {
     "data": {
      "text/plain": [
       "8       3.778869\n",
       "10     16.556562\n",
       "12     10.879405\n",
       "14      6.755465\n",
       "16      6.205389\n",
       "19     -3.021029\n",
       "22      5.025756\n",
       "27     -3.328046\n",
       "32      3.140578\n",
       "42     -1.100002\n",
       "52      2.928112\n",
       "62      6.230846\n",
       "72      8.105344\n",
       "82     11.467763\n",
       "92      4.717777\n",
       "102     5.066338\n",
       "122     4.391387\n",
       "142     6.078120\n",
       "162     4.951526\n",
       "182     1.674908\n",
       "dtype: float64"
      ]
     },
     "execution_count": 86,
     "metadata": {},
     "output_type": "execute_result"
    }
   ],
   "source": [
    "error_func(params, data)"
   ]
  },
  {
   "cell_type": "code",
   "execution_count": 87,
   "metadata": {},
   "outputs": [
    {
     "name": "stdout",
     "output_type": "stream",
     "text": [
      "[2.9e+02 3.0e-02 2.0e-02 1.0e-05]\n",
      "[2.9e+02 3.0e-02 2.0e-02 1.0e-05]\n",
      "[2.9e+02 3.0e-02 2.0e-02 1.0e-05]\n",
      "[2.90000004e+02 3.00000000e-02 2.00000000e-02 1.00000000e-05]\n",
      "[2.90000000e+02 3.00000004e-02 2.00000000e-02 1.00000000e-05]\n",
      "[2.90000000e+02 3.00000000e-02 2.00000003e-02 1.00000000e-05]\n",
      "[2.90000000e+02 3.00000000e-02 2.00000000e-02 1.00000001e-05]\n",
      "[2.70041185e+02 2.66989610e-02 3.09636831e-03 8.45262743e-06]\n",
      "[2.70041189e+02 2.66989610e-02 3.09636831e-03 8.45262743e-06]\n",
      "[2.70041185e+02 2.66989614e-02 3.09636831e-03 8.45262743e-06]\n",
      "[2.70041185e+02 2.66989610e-02 3.09636836e-03 8.45262743e-06]\n",
      "[2.70041185e+02 2.66989610e-02 3.09636831e-03 8.45262756e-06]\n",
      "[2.71996449e+02 2.79863791e-02 3.93029960e-03 8.43585772e-06]\n",
      "[2.71996453e+02 2.79863791e-02 3.93029960e-03 8.43585772e-06]\n",
      "[2.71996449e+02 2.79863796e-02 3.93029960e-03 8.43585772e-06]\n",
      "[2.71996449e+02 2.79863791e-02 3.93029966e-03 8.43585772e-06]\n",
      "[2.71996449e+02 2.79863791e-02 3.93029960e-03 8.43585785e-06]\n",
      "[2.73806244e+02 2.88652233e-02 7.26083193e-03 8.42207828e-06]\n",
      "[2.73806248e+02 2.88652233e-02 7.26083193e-03 8.42207828e-06]\n",
      "[2.73806244e+02 2.88652238e-02 7.26083193e-03 8.42207828e-06]\n",
      "[2.73806244e+02 2.88652233e-02 7.26083204e-03 8.42207828e-06]\n",
      "[2.73806244e+02 2.88652233e-02 7.26083193e-03 8.42207841e-06]\n",
      "[2.75422046e+02 2.95268098e-02 8.03823872e-03 8.45865162e-06]\n",
      "[2.75422051e+02 2.95268098e-02 8.03823872e-03 8.45865162e-06]\n",
      "[2.75422046e+02 2.95268103e-02 8.03823872e-03 8.45865162e-06]\n",
      "[2.75422046e+02 2.95268098e-02 8.03823884e-03 8.45865162e-06]\n",
      "[2.75422046e+02 2.95268098e-02 8.03823872e-03 8.45865174e-06]\n",
      "[2.75911365e+02 2.97572335e-02 8.54594931e-03 8.42241062e-06]\n",
      "[2.75885931e+02 2.97331819e-02 8.55564225e-03 8.44809214e-06]\n",
      "[2.75885935e+02 2.97331819e-02 8.55564225e-03 8.44809214e-06]\n",
      "[2.75885931e+02 2.97331823e-02 8.55564225e-03 8.44809214e-06]\n",
      "[2.75885931e+02 2.97331819e-02 8.55564238e-03 8.44809214e-06]\n",
      "[2.75885931e+02 2.97331819e-02 8.55564225e-03 8.44809227e-06]\n",
      "[2.76023608e+02 2.97767650e-02 8.70868084e-03 8.45865567e-06]\n",
      "[2.76023612e+02 2.97767650e-02 8.70868084e-03 8.45865567e-06]\n",
      "[2.76023608e+02 2.97767655e-02 8.70868084e-03 8.45865567e-06]\n",
      "[2.76023608e+02 2.97767650e-02 8.70868097e-03 8.45865567e-06]\n",
      "[2.76023608e+02 2.97767650e-02 8.70868084e-03 8.45865579e-06]\n",
      "[2.76110150e+02 2.98043343e-02 8.49208115e-03 8.45337497e-06]\n",
      "[2.76110154e+02 2.98043343e-02 8.49208115e-03 8.45337497e-06]\n",
      "[2.76110150e+02 2.98043348e-02 8.49208115e-03 8.45337497e-06]\n",
      "[2.76110150e+02 2.98043343e-02 8.49208127e-03 8.45337497e-06]\n",
      "[2.76110150e+02 2.98043343e-02 8.49208115e-03 8.45337509e-06]\n",
      "[2.75796438e+02 2.96879159e-02 8.53467862e-03 8.46402663e-06]\n",
      "[2.75828415e+02 2.97048946e-02 8.52184502e-03 8.45421837e-06]\n",
      "[2.75935189e+02 2.97403976e-02 8.52179846e-03 8.45343979e-06]\n",
      "[2.75935193e+02 2.97403976e-02 8.52179846e-03 8.45343979e-06]\n",
      "[2.75935189e+02 2.97403981e-02 8.52179846e-03 8.45343979e-06]\n",
      "[2.75935189e+02 2.97403976e-02 8.52179858e-03 8.45343979e-06]\n",
      "[2.75935189e+02 2.97403976e-02 8.52179846e-03 8.45343991e-06]\n",
      "[2.76013928e+02 2.97735304e-02 8.49955871e-03 8.45347958e-06]\n",
      "[2.76013932e+02 2.97735304e-02 8.49955871e-03 8.45347958e-06]\n",
      "[2.76013928e+02 2.97735308e-02 8.49955871e-03 8.45347958e-06]\n",
      "[2.76013928e+02 2.97735304e-02 8.49955884e-03 8.45347958e-06]\n",
      "[2.76013928e+02 2.97735304e-02 8.49955871e-03 8.45347970e-06]\n",
      "[2.76107456e+02 2.98036681e-02 8.49899693e-03 8.45387365e-06]\n",
      "[2.76053026e+02 2.97862150e-02 8.49770945e-03 8.45350856e-06]\n",
      "[2.76020804e+02 2.97758233e-02 8.49867249e-03 8.45348309e-06]\n",
      "[2.76020808e+02 2.97758233e-02 8.49867249e-03 8.45348309e-06]\n",
      "[2.76020804e+02 2.97758237e-02 8.49867249e-03 8.45348309e-06]\n",
      "[2.76020804e+02 2.97758233e-02 8.49867262e-03 8.45348309e-06]\n",
      "[2.76020804e+02 2.97758233e-02 8.49867249e-03 8.45348322e-06]\n",
      "[2.76020880e+02 2.97744697e-02 8.50027595e-03 8.45348344e-06]\n",
      "[2.76020884e+02 2.97744697e-02 8.50027595e-03 8.45348344e-06]\n",
      "[2.76020880e+02 2.97744701e-02 8.50027595e-03 8.45348344e-06]\n",
      "[2.76020880e+02 2.97744697e-02 8.50027608e-03 8.45348344e-06]\n",
      "[2.76020880e+02 2.97744697e-02 8.50027595e-03 8.45348357e-06]\n",
      "[2.76023101e+02 2.97757191e-02 8.49967111e-03 8.45348500e-06]\n",
      "[2.76023105e+02 2.97757191e-02 8.49967111e-03 8.45348500e-06]\n",
      "[2.76023101e+02 2.97757196e-02 8.49967111e-03 8.45348500e-06]\n",
      "[2.76023101e+02 2.97757191e-02 8.49967124e-03 8.45348500e-06]\n",
      "[2.76023101e+02 2.97757191e-02 8.49967111e-03 8.45348512e-06]\n",
      "[2.76023109e+02 2.97750535e-02 8.50045783e-03 8.45348517e-06]\n",
      "[2.76023114e+02 2.97750535e-02 8.50045783e-03 8.45348517e-06]\n",
      "[2.76023109e+02 2.97750539e-02 8.50045783e-03 8.45348517e-06]\n",
      "[2.76023109e+02 2.97750535e-02 8.50045795e-03 8.45348517e-06]\n",
      "[2.76023109e+02 2.97750535e-02 8.50045783e-03 8.45348530e-06]\n",
      "[2.76023559e+02 2.97754008e-02 8.50027487e-03 8.45348556e-06]\n",
      "[2.76023563e+02 2.97754008e-02 8.50027487e-03 8.45348556e-06]\n",
      "[2.76023559e+02 2.97754012e-02 8.50027487e-03 8.45348556e-06]\n",
      "[2.76023559e+02 2.97754008e-02 8.50027500e-03 8.45348556e-06]\n",
      "[2.76023559e+02 2.97754008e-02 8.50027487e-03 8.45348569e-06]\n",
      "[2.76024577e+02 2.97760415e-02 8.49994810e-03 8.45348634e-06]\n",
      "[2.76023717e+02 2.97755178e-02 8.50021364e-03 8.45348569e-06]\n",
      "[2.76023721e+02 2.97755178e-02 8.50021364e-03 8.45348569e-06]\n",
      "[2.76023717e+02 2.97755182e-02 8.50021364e-03 8.45348569e-06]\n",
      "[2.76023717e+02 2.97755178e-02 8.50021377e-03 8.45348569e-06]\n",
      "[2.76023717e+02 2.97755178e-02 8.50021364e-03 8.45348582e-06]\n",
      "[2.76024050e+02 2.97757448e-02 8.50009606e-03 8.45348596e-06]\n",
      "[2.76023766e+02 2.97755532e-02 8.50019516e-03 8.45348573e-06]\n",
      "[2.76023770e+02 2.97755532e-02 8.50019516e-03 8.45348573e-06]\n",
      "[2.76023766e+02 2.97755536e-02 8.50019516e-03 8.45348573e-06]\n",
      "[2.76023766e+02 2.97755532e-02 8.50019528e-03 8.45348573e-06]\n",
      "[2.76023766e+02 2.97755532e-02 8.50019516e-03 8.45348586e-06]\n",
      "[2.76023769e+02 2.97754870e-02 8.50027269e-03 8.45348575e-06]\n",
      "[2.76023767e+02 2.97755265e-02 8.50022641e-03 8.45348574e-06]\n"
     ]
    },
    {
     "data": {
      "text/html": [
       "<div>\n",
       "<style scoped>\n",
       "    .dataframe tbody tr th:only-of-type {\n",
       "        vertical-align: middle;\n",
       "    }\n",
       "\n",
       "    .dataframe tbody tr th {\n",
       "        vertical-align: top;\n",
       "    }\n",
       "\n",
       "    .dataframe thead th {\n",
       "        text-align: right;\n",
       "    }\n",
       "</style>\n",
       "<table border=\"1\" class=\"dataframe\">\n",
       "  <thead>\n",
       "    <tr style=\"text-align: right;\">\n",
       "      <th></th>\n",
       "      <th>values</th>\n",
       "    </tr>\n",
       "  </thead>\n",
       "  <tbody>\n",
       "    <tr>\n",
       "      <th>fvec</th>\n",
       "      <td>[-5.759126528561325, 8.21147789422514, 3.60064...</td>\n",
       "    </tr>\n",
       "    <tr>\n",
       "      <th>nfev</th>\n",
       "      <td>94</td>\n",
       "    </tr>\n",
       "    <tr>\n",
       "      <th>fjac</th>\n",
       "      <td>[[6245307.42232215, 0.9839178323942438, -0.459...</td>\n",
       "    </tr>\n",
       "    <tr>\n",
       "      <th>ipvt</th>\n",
       "      <td>[4, 2, 3, 1]</td>\n",
       "    </tr>\n",
       "    <tr>\n",
       "      <th>qtf</th>\n",
       "      <td>[-0.7744962989830633, 1.0367859290170998, 2.92...</td>\n",
       "    </tr>\n",
       "    <tr>\n",
       "      <th>cov_x</th>\n",
       "      <td>[[5.754065662068523, 0.0033437225509999864, -0...</td>\n",
       "    </tr>\n",
       "    <tr>\n",
       "      <th>mesg</th>\n",
       "      <td>The relative error between two consecutive ite...</td>\n",
       "    </tr>\n",
       "    <tr>\n",
       "      <th>ier</th>\n",
       "      <td>2</td>\n",
       "    </tr>\n",
       "  </tbody>\n",
       "</table>\n",
       "</div>"
      ],
      "text/plain": [
       "fvec     [-5.759126528561325, 8.21147789422514, 3.60064...\n",
       "nfev                                                    94\n",
       "fjac     [[6245307.42232215, 0.9839178323942438, -0.459...\n",
       "ipvt                                          [4, 2, 3, 1]\n",
       "qtf      [-0.7744962989830633, 1.0367859290170998, 2.92...\n",
       "cov_x    [[5.754065662068523, 0.0033437225509999864, -0...\n",
       "mesg     The relative error between two consecutive ite...\n",
       "ier                                                      2\n",
       "dtype: object"
      ]
     },
     "execution_count": 87,
     "metadata": {},
     "output_type": "execute_result"
    }
   ],
   "source": [
    "best_params, fit_details = fit_leastsq(error_func, params, data)\n",
    "best_params\n",
    "fit_details"
   ]
  },
  {
   "cell_type": "code",
   "execution_count": 88,
   "metadata": {},
   "outputs": [
    {
     "data": {
      "text/plain": [
       "'The solver successfully reached the end of the integration interval.'"
      ]
     },
     "execution_count": 88,
     "metadata": {},
     "output_type": "execute_result"
    }
   ],
   "source": [
    "system = make_system(best_params, data)\n",
    "results, details = run_ode_solver(system, slope_func, t_eval=data.index)\n",
    "details.message"
   ]
  },
  {
   "cell_type": "code",
   "execution_count": 89,
   "metadata": {},
   "outputs": [
    {
     "name": "stdout",
     "output_type": "stream",
     "text": [
      "Saving figure to file figs/chap08-fig04.pdf\n"
     ]
    },
    {
     "data": {
      "image/png": "[encoded data removed]",
      "text/plain": [
       "<Figure size 432x288 with 1 Axes>"
      ]
     },
     "metadata": {},
     "output_type": "display_data"
    }
   ],
   "source": [
    "plot(results.G, label='simulation')\n",
    "plot(data.glucose, 'bo', label='glucose data')\n",
    "\n",
    "decorate(xlabel='Time (min)',\n",
    "         ylabel='Concentration (mg/dL)')\n",
    "\n",
    "savefig('figs/chap08-fig04.pdf')"
   ]
  },
  {
   "cell_type": "code",
   "execution_count": null,
   "metadata": {},
   "outputs": [],
   "source": []
  },
  {
   "cell_type": "code",
   "execution_count": null,
   "metadata": {},
   "outputs": [],
   "source": []
  },
  {
   "cell_type": "code",
   "execution_count": null,
   "metadata": {},
   "outputs": [],
   "source": []
  },
  {
   "cell_type": "code",
   "execution_count": null,
   "metadata": {},
   "outputs": [],
   "source": []
  },
  {
   "cell_type": "code",
   "execution_count": null,
   "metadata": {},
   "outputs": [],
   "source": []
  }
 ],
 "metadata": {
  "kernelspec": {
   "display_name": "Python 3",
   "language": "python",
   "name": "python3"
  },
  "language_info": {
   "codemirror_mode": {
    "name": "ipython",
    "version": 3
   },
   "file_extension": ".py",
   "mimetype": "text/x-python",
   "name": "python",
   "nbconvert_exporter": "python",
   "pygments_lexer": "ipython3",
   "version": "3.6.5"
  }
 },
 "nbformat": 4,
 "nbformat_minor": 2
}
