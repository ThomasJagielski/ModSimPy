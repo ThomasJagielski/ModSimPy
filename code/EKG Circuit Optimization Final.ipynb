{
 "cells": [
  {
   "cell_type": "markdown",
   "metadata": {},
   "source": [
    "# Optimizing EKG Circuit"
   ]
  },
  {
   "cell_type": "code",
   "execution_count": 1,
   "metadata": {},
   "outputs": [],
   "source": [
    "# Configure Jupyter so figures appear in the notebook\n",
    "%matplotlib inline\n",
    "\n",
    "# Configure Jupyter to display the assigned value after an assignment\n",
    "%config InteractiveShell.ast_node_interactivity='last_expr_or_assign'\n",
    "\n",
    "# import functions from the modsim.py module\n",
    "from modsim import *"
   ]
  },
  {
   "cell_type": "code",
   "execution_count": 2,
   "metadata": {},
   "outputs": [],
   "source": [
    "ohm = UNITS.ohm\n",
    "farad = UNITS.farad\n",
    "volt = UNITS.volt\n",
    "Hz = UNITS.Hz\n",
    "second = UNITS.second;"
   ]
  },
  {
   "cell_type": "code",
   "execution_count": 220,
   "metadata": {},
   "outputs": [
    {
     "data": {
      "text/html": [
       "<div>\n",
       "<style scoped>\n",
       "    .dataframe tbody tr th:only-of-type {\n",
       "        vertical-align: middle;\n",
       "    }\n",
       "\n",
       "    .dataframe tbody tr th {\n",
       "        vertical-align: top;\n",
       "    }\n",
       "\n",
       "    .dataframe thead th {\n",
       "        text-align: right;\n",
       "    }\n",
       "</style>\n",
       "<table border=\"1\" class=\"dataframe\">\n",
       "  <thead>\n",
       "    <tr style=\"text-align: right;\">\n",
       "      <th></th>\n",
       "      <th>values</th>\n",
       "    </tr>\n",
       "  </thead>\n",
       "  <tbody>\n",
       "    <tr>\n",
       "      <th>f</th>\n",
       "      <td>50</td>\n",
       "    </tr>\n",
       "  </tbody>\n",
       "</table>\n",
       "</div>"
      ],
      "text/plain": [
       "f    50\n",
       "dtype: int64"
      ]
     },
     "execution_count": 220,
     "metadata": {},
     "output_type": "execute_result"
    }
   ],
   "source": [
    "input_freq = Params(\n",
    "    f = 50\n",
    ")"
   ]
  },
  {
   "cell_type": "code",
   "execution_count": 221,
   "metadata": {},
   "outputs": [
    {
     "data": {
      "text/html": [
       "<div>\n",
       "<style scoped>\n",
       "    .dataframe tbody tr th:only-of-type {\n",
       "        vertical-align: middle;\n",
       "    }\n",
       "\n",
       "    .dataframe tbody tr th {\n",
       "        vertical-align: top;\n",
       "    }\n",
       "\n",
       "    .dataframe thead th {\n",
       "        text-align: right;\n",
       "    }\n",
       "</style>\n",
       "<table border=\"1\" class=\"dataframe\">\n",
       "  <thead>\n",
       "    <tr style=\"text-align: right;\">\n",
       "      <th></th>\n",
       "      <th>values</th>\n",
       "    </tr>\n",
       "  </thead>\n",
       "  <tbody>\n",
       "    <tr>\n",
       "      <th>R</th>\n",
       "      <td>4900.000000</td>\n",
       "    </tr>\n",
       "    <tr>\n",
       "      <th>C</th>\n",
       "      <td>0.000001</td>\n",
       "    </tr>\n",
       "    <tr>\n",
       "      <th>A</th>\n",
       "      <td>5.000000</td>\n",
       "    </tr>\n",
       "    <tr>\n",
       "      <th>f</th>\n",
       "      <td>50.000000</td>\n",
       "    </tr>\n",
       "    <tr>\n",
       "      <th>vin</th>\n",
       "      <td>0.000000</td>\n",
       "    </tr>\n",
       "  </tbody>\n",
       "</table>\n",
       "</div>"
      ],
      "text/plain": [
       "R      4900.000000\n",
       "C         0.000001\n",
       "A         5.000000\n",
       "f        50.000000\n",
       "vin       0.000000\n",
       "dtype: float64"
      ]
     },
     "execution_count": 221,
     "metadata": {},
     "output_type": "execute_result"
    }
   ],
   "source": [
    "params1 = Params(\n",
    "    R = 4.9e3,   # ohm\n",
    "    C = 1e-6,  # farad\n",
    "    A = 5,      # volt\n",
    "    f = input_freq.f,   # Hz\n",
    "    vin = 0\n",
    ")"
   ]
  },
  {
   "cell_type": "code",
   "execution_count": 222,
   "metadata": {},
   "outputs": [],
   "source": [
    "def make_system(params):\n",
    "    \"\"\"Makes a System object for the given conditions.\n",
    "    \n",
    "    params: Params object\n",
    "    \n",
    "    returns: System object\n",
    "    \"\"\"\n",
    "    unpack(params)\n",
    "    \n",
    "    init = State(V_out = 0)\n",
    "    omega = 2 * np.pi * input_freq.f\n",
    "    tau = R * C\n",
    "    cutoff = 1 / R / C / 2 / np.pi\n",
    "    t_end = 4 / input_freq.f\n",
    "    ts = linspace(0, t_end, 401)\n",
    "    \n",
    "    return System(R=R, C=C, A=A, f=input_freq.f,\n",
    "                  init=init, t_end=t_end, ts=ts,\n",
    "                  omega=omega, tau=tau, cutoff=cutoff, vin=vin)"
   ]
  },
  {
   "cell_type": "code",
   "execution_count": 223,
   "metadata": {},
   "outputs": [
    {
     "data": {
      "text/html": [
       "<div>\n",
       "<style scoped>\n",
       "    .dataframe tbody tr th:only-of-type {\n",
       "        vertical-align: middle;\n",
       "    }\n",
       "\n",
       "    .dataframe tbody tr th {\n",
       "        vertical-align: top;\n",
       "    }\n",
       "\n",
       "    .dataframe thead th {\n",
       "        text-align: right;\n",
       "    }\n",
       "</style>\n",
       "<table border=\"1\" class=\"dataframe\">\n",
       "  <thead>\n",
       "    <tr style=\"text-align: right;\">\n",
       "      <th></th>\n",
       "      <th>values</th>\n",
       "    </tr>\n",
       "  </thead>\n",
       "  <tbody>\n",
       "    <tr>\n",
       "      <th>R</th>\n",
       "      <td>4900</td>\n",
       "    </tr>\n",
       "    <tr>\n",
       "      <th>C</th>\n",
       "      <td>1e-06</td>\n",
       "    </tr>\n",
       "    <tr>\n",
       "      <th>A</th>\n",
       "      <td>5</td>\n",
       "    </tr>\n",
       "    <tr>\n",
       "      <th>f</th>\n",
       "      <td>50</td>\n",
       "    </tr>\n",
       "    <tr>\n",
       "      <th>init</th>\n",
       "      <td>V_out    0\n",
       "dtype: int64</td>\n",
       "    </tr>\n",
       "    <tr>\n",
       "      <th>t_end</th>\n",
       "      <td>0.08</td>\n",
       "    </tr>\n",
       "    <tr>\n",
       "      <th>ts</th>\n",
       "      <td>[0.0, 0.0002, 0.0004, 0.0006000000000000001, 0...</td>\n",
       "    </tr>\n",
       "    <tr>\n",
       "      <th>omega</th>\n",
       "      <td>314.159</td>\n",
       "    </tr>\n",
       "    <tr>\n",
       "      <th>tau</th>\n",
       "      <td>0.0049</td>\n",
       "    </tr>\n",
       "    <tr>\n",
       "      <th>cutoff</th>\n",
       "      <td>32.4806</td>\n",
       "    </tr>\n",
       "    <tr>\n",
       "      <th>vin</th>\n",
       "      <td>0</td>\n",
       "    </tr>\n",
       "  </tbody>\n",
       "</table>\n",
       "</div>"
      ],
      "text/plain": [
       "R                                                      4900\n",
       "C                                                     1e-06\n",
       "A                                                         5\n",
       "f                                                        50\n",
       "init                                V_out    0\n",
       "dtype: int64\n",
       "t_end                                                  0.08\n",
       "ts        [0.0, 0.0002, 0.0004, 0.0006000000000000001, 0...\n",
       "omega                                               314.159\n",
       "tau                                                  0.0049\n",
       "cutoff                                              32.4806\n",
       "vin                                                       0\n",
       "dtype: object"
      ]
     },
     "execution_count": 223,
     "metadata": {},
     "output_type": "execute_result"
    }
   ],
   "source": [
    "system1 = make_system(params1)"
   ]
  },
  {
   "cell_type": "code",
   "execution_count": 224,
   "metadata": {},
   "outputs": [
    {
     "data": {
      "image/png": "[encoded data removed]",
      "text/plain": [
       "<Figure size 432x288 with 1 Axes>"
      ]
     },
     "metadata": {},
     "output_type": "display_data"
    }
   ],
   "source": [
    "x = linspace(0, system1.t_end * 1000, 401)\n",
    "v = A * np.cos(2 * pi * (f / 1000) * x)\n",
    "plt.plot(x, v)\n",
    "decorate(xlabel='Time (ms)',\n",
    "             ylabel='$V_{out}$ (volt)',\n",
    "             title='Input Signal',\n",
    "             legend=False)"
   ]
  },
  {
   "cell_type": "code",
   "execution_count": 225,
   "metadata": {},
   "outputs": [],
   "source": [
    "def slope_func_init(state, t, system):\n",
    "    \"\"\"Makes a slope function to update the state.\n",
    "    \n",
    "    state: State(V_out)\n",
    "    t: time\n",
    "    system: System Object\n",
    "    \n",
    "    returns: State(V_out)\"\"\"\n",
    "\n",
    "    vout = state\n",
    "    \n",
    "    unpack(system)\n",
    "    \n",
    "    vin = A * np.cos(2 * pi * f * t)\n",
    "    \n",
    "    dvoutdt = (vin - vout) / (R * C)\n",
    "    \n",
    "    return dvoutdt"
   ]
  },
  {
   "cell_type": "code",
   "execution_count": 226,
   "metadata": {},
   "outputs": [],
   "source": [
    "results1, details1 = run_ode_solver(system1, slope_func_init, t_eval=system1.ts)"
   ]
  },
  {
   "cell_type": "code",
   "execution_count": 227,
   "metadata": {},
   "outputs": [],
   "source": [
    "def plot_results(results):\n",
    "    xs = results.V_out.index\n",
    "    ys = results.V_out.values\n",
    "\n",
    "    t_end = get_last_label(results)\n",
    "    if t_end < 10:\n",
    "        xs *= 1000\n",
    "        xlabel = 'Time (ms)'\n",
    "    else:\n",
    "        xlabel = 'Time (s)'\n",
    "        \n",
    "    plot(xs, ys)\n",
    "    decorate(xlabel=xlabel,\n",
    "             ylabel='$V_{out}$ (volt)',\n",
    "             legend=False)"
   ]
  },
  {
   "cell_type": "code",
   "execution_count": 228,
   "metadata": {},
   "outputs": [
    {
     "data": {
      "text/html": [
       "<div>\n",
       "<style scoped>\n",
       "    .dataframe tbody tr th:only-of-type {\n",
       "        vertical-align: middle;\n",
       "    }\n",
       "\n",
       "    .dataframe tbody tr th {\n",
       "        vertical-align: top;\n",
       "    }\n",
       "\n",
       "    .dataframe thead th {\n",
       "        text-align: right;\n",
       "    }\n",
       "</style>\n",
       "<table border=\"1\" class=\"dataframe\">\n",
       "  <thead>\n",
       "    <tr style=\"text-align: right;\">\n",
       "      <th></th>\n",
       "      <th>values</th>\n",
       "    </tr>\n",
       "  </thead>\n",
       "  <tbody>\n",
       "    <tr>\n",
       "      <th>R</th>\n",
       "      <td>100000</td>\n",
       "    </tr>\n",
       "    <tr>\n",
       "      <th>C</th>\n",
       "      <td>1e-06</td>\n",
       "    </tr>\n",
       "    <tr>\n",
       "      <th>vin</th>\n",
       "      <td>0.0000    0.000000\n",
       "0.0002    0.199840\n",
       "0.0004  ...</td>\n",
       "    </tr>\n",
       "  </tbody>\n",
       "</table>\n",
       "</div>"
      ],
      "text/plain": [
       "R                                                 100000\n",
       "C                                                  1e-06\n",
       "vin    0.0000    0.000000\n",
       "0.0002    0.199840\n",
       "0.0004  ...\n",
       "dtype: object"
      ]
     },
     "execution_count": 228,
     "metadata": {},
     "output_type": "execute_result"
    }
   ],
   "source": [
    "params2 = Params(\n",
    "    R = 100e3,   # ohm\n",
    "    C = 1e-6,  # farad\n",
    "    vin = results1.V_out\n",
    ")"
   ]
  },
  {
   "cell_type": "code",
   "execution_count": 229,
   "metadata": {},
   "outputs": [
    {
     "data": {
      "text/html": [
       "<div>\n",
       "<style scoped>\n",
       "    .dataframe tbody tr th:only-of-type {\n",
       "        vertical-align: middle;\n",
       "    }\n",
       "\n",
       "    .dataframe tbody tr th {\n",
       "        vertical-align: top;\n",
       "    }\n",
       "\n",
       "    .dataframe thead th {\n",
       "        text-align: right;\n",
       "    }\n",
       "</style>\n",
       "<table border=\"1\" class=\"dataframe\">\n",
       "  <thead>\n",
       "    <tr style=\"text-align: right;\">\n",
       "      <th></th>\n",
       "      <th>values</th>\n",
       "    </tr>\n",
       "  </thead>\n",
       "  <tbody>\n",
       "    <tr>\n",
       "      <th>R</th>\n",
       "      <td>100000</td>\n",
       "    </tr>\n",
       "    <tr>\n",
       "      <th>C</th>\n",
       "      <td>1e-06</td>\n",
       "    </tr>\n",
       "    <tr>\n",
       "      <th>A</th>\n",
       "      <td>5</td>\n",
       "    </tr>\n",
       "    <tr>\n",
       "      <th>f</th>\n",
       "      <td>50</td>\n",
       "    </tr>\n",
       "    <tr>\n",
       "      <th>init</th>\n",
       "      <td>V_out    0\n",
       "dtype: int64</td>\n",
       "    </tr>\n",
       "    <tr>\n",
       "      <th>t_end</th>\n",
       "      <td>0.08</td>\n",
       "    </tr>\n",
       "    <tr>\n",
       "      <th>ts</th>\n",
       "      <td>[0.0, 0.0002, 0.0004, 0.0006000000000000001, 0...</td>\n",
       "    </tr>\n",
       "    <tr>\n",
       "      <th>omega</th>\n",
       "      <td>314.159</td>\n",
       "    </tr>\n",
       "    <tr>\n",
       "      <th>tau</th>\n",
       "      <td>0.1</td>\n",
       "    </tr>\n",
       "    <tr>\n",
       "      <th>cutoff</th>\n",
       "      <td>1.59155</td>\n",
       "    </tr>\n",
       "    <tr>\n",
       "      <th>vin</th>\n",
       "      <td>0.0000    0.000000\n",
       "0.0002    0.199840\n",
       "0.0004  ...</td>\n",
       "    </tr>\n",
       "  </tbody>\n",
       "</table>\n",
       "</div>"
      ],
      "text/plain": [
       "R                                                    100000\n",
       "C                                                     1e-06\n",
       "A                                                         5\n",
       "f                                                        50\n",
       "init                                V_out    0\n",
       "dtype: int64\n",
       "t_end                                                  0.08\n",
       "ts        [0.0, 0.0002, 0.0004, 0.0006000000000000001, 0...\n",
       "omega                                               314.159\n",
       "tau                                                     0.1\n",
       "cutoff                                              1.59155\n",
       "vin       0.0000    0.000000\n",
       "0.0002    0.199840\n",
       "0.0004  ...\n",
       "dtype: object"
      ]
     },
     "execution_count": 229,
     "metadata": {},
     "output_type": "execute_result"
    }
   ],
   "source": [
    "system2 = make_system(params2)"
   ]
  },
  {
   "cell_type": "code",
   "execution_count": 230,
   "metadata": {},
   "outputs": [],
   "source": [
    "def slope_func_high_pass(state, t, system):\n",
    "    \"\"\"Makes a slope function to update the state.\n",
    "    \n",
    "    state: State(V_out)\n",
    "    t: time\n",
    "    system: System Object\n",
    "    \n",
    "    returns: State(V_out)\n",
    "    \"\"\"\n",
    "    vout = state\n",
    "    \n",
    "    #unpack(system)\n",
    "    \n",
    "    vin = interpolate(system.vin)\n",
    "    \n",
    "    dvoutdt = ((vin(t) - vout) * (system.R * system.C * system.omega)) / (system.R * system.C)\n",
    "    \n",
    "    return dvoutdt"
   ]
  },
  {
   "cell_type": "code",
   "execution_count": 231,
   "metadata": {},
   "outputs": [],
   "source": [
    "def slope_func_low_pass(state, t, system):\n",
    "    \"\"\"Makes a slope function to update the state.\n",
    "    \n",
    "    state: State(V_out)\n",
    "    t: time\n",
    "    system: System Object\n",
    "    \n",
    "    returns: State(V_out)\n",
    "    \"\"\"\n",
    "    vout = state\n",
    "    \n",
    "    #unpack(system)\n",
    "    \n",
    "    vin = interpolate(system.vin)\n",
    "    \n",
    "    dvoutdt = (vin(t) - vout) / (system.R * system.C)\n",
    "    \n",
    "    return dvoutdt"
   ]
  },
  {
   "cell_type": "code",
   "execution_count": 232,
   "metadata": {},
   "outputs": [],
   "source": [
    "results2, details2 = run_ode_solver(system2, slope_func_high_pass, t_eval=system2.ts)"
   ]
  },
  {
   "cell_type": "code",
   "execution_count": 233,
   "metadata": {},
   "outputs": [
    {
     "data": {
      "text/html": [
       "<div>\n",
       "<style scoped>\n",
       "    .dataframe tbody tr th:only-of-type {\n",
       "        vertical-align: middle;\n",
       "    }\n",
       "\n",
       "    .dataframe tbody tr th {\n",
       "        vertical-align: top;\n",
       "    }\n",
       "\n",
       "    .dataframe thead th {\n",
       "        text-align: right;\n",
       "    }\n",
       "</style>\n",
       "<table border=\"1\" class=\"dataframe\">\n",
       "  <thead>\n",
       "    <tr style=\"text-align: right;\">\n",
       "      <th></th>\n",
       "      <th>values</th>\n",
       "    </tr>\n",
       "  </thead>\n",
       "  <tbody>\n",
       "    <tr>\n",
       "      <th>R</th>\n",
       "      <td>499</td>\n",
       "    </tr>\n",
       "    <tr>\n",
       "      <th>C</th>\n",
       "      <td>1e-05</td>\n",
       "    </tr>\n",
       "    <tr>\n",
       "      <th>vin</th>\n",
       "      <td>0.0000    0.000000\n",
       "0.0002    0.006138\n",
       "0.0004  ...</td>\n",
       "    </tr>\n",
       "  </tbody>\n",
       "</table>\n",
       "</div>"
      ],
      "text/plain": [
       "R                                                    499\n",
       "C                                                  1e-05\n",
       "vin    0.0000    0.000000\n",
       "0.0002    0.006138\n",
       "0.0004  ...\n",
       "dtype: object"
      ]
     },
     "execution_count": 233,
     "metadata": {},
     "output_type": "execute_result"
    }
   ],
   "source": [
    "params3 = Params(\n",
    "    R = 499,   # ohm\n",
    "    C = 10e-6,  # farad\n",
    "    vin = results2.V_out\n",
    ")"
   ]
  },
  {
   "cell_type": "code",
   "execution_count": 234,
   "metadata": {},
   "outputs": [
    {
     "data": {
      "text/html": [
       "<div>\n",
       "<style scoped>\n",
       "    .dataframe tbody tr th:only-of-type {\n",
       "        vertical-align: middle;\n",
       "    }\n",
       "\n",
       "    .dataframe tbody tr th {\n",
       "        vertical-align: top;\n",
       "    }\n",
       "\n",
       "    .dataframe thead th {\n",
       "        text-align: right;\n",
       "    }\n",
       "</style>\n",
       "<table border=\"1\" class=\"dataframe\">\n",
       "  <thead>\n",
       "    <tr style=\"text-align: right;\">\n",
       "      <th></th>\n",
       "      <th>values</th>\n",
       "    </tr>\n",
       "  </thead>\n",
       "  <tbody>\n",
       "    <tr>\n",
       "      <th>R</th>\n",
       "      <td>499</td>\n",
       "    </tr>\n",
       "    <tr>\n",
       "      <th>C</th>\n",
       "      <td>1e-05</td>\n",
       "    </tr>\n",
       "    <tr>\n",
       "      <th>A</th>\n",
       "      <td>5</td>\n",
       "    </tr>\n",
       "    <tr>\n",
       "      <th>f</th>\n",
       "      <td>50</td>\n",
       "    </tr>\n",
       "    <tr>\n",
       "      <th>init</th>\n",
       "      <td>V_out    0\n",
       "dtype: int64</td>\n",
       "    </tr>\n",
       "    <tr>\n",
       "      <th>t_end</th>\n",
       "      <td>0.08</td>\n",
       "    </tr>\n",
       "    <tr>\n",
       "      <th>ts</th>\n",
       "      <td>[0.0, 0.0002, 0.0004, 0.0006000000000000001, 0...</td>\n",
       "    </tr>\n",
       "    <tr>\n",
       "      <th>omega</th>\n",
       "      <td>314.159</td>\n",
       "    </tr>\n",
       "    <tr>\n",
       "      <th>tau</th>\n",
       "      <td>0.00499</td>\n",
       "    </tr>\n",
       "    <tr>\n",
       "      <th>cutoff</th>\n",
       "      <td>31.8948</td>\n",
       "    </tr>\n",
       "    <tr>\n",
       "      <th>vin</th>\n",
       "      <td>0.0000    0.000000\n",
       "0.0002    0.006138\n",
       "0.0004  ...</td>\n",
       "    </tr>\n",
       "  </tbody>\n",
       "</table>\n",
       "</div>"
      ],
      "text/plain": [
       "R                                                       499\n",
       "C                                                     1e-05\n",
       "A                                                         5\n",
       "f                                                        50\n",
       "init                                V_out    0\n",
       "dtype: int64\n",
       "t_end                                                  0.08\n",
       "ts        [0.0, 0.0002, 0.0004, 0.0006000000000000001, 0...\n",
       "omega                                               314.159\n",
       "tau                                                 0.00499\n",
       "cutoff                                              31.8948\n",
       "vin       0.0000    0.000000\n",
       "0.0002    0.006138\n",
       "0.0004  ...\n",
       "dtype: object"
      ]
     },
     "execution_count": 234,
     "metadata": {},
     "output_type": "execute_result"
    }
   ],
   "source": [
    "system3 = make_system(params3)"
   ]
  },
  {
   "cell_type": "code",
   "execution_count": 235,
   "metadata": {},
   "outputs": [],
   "source": [
    "results3, details3 = run_ode_solver(system3, slope_func_low_pass, t_eval=system3.ts)"
   ]
  },
  {
   "cell_type": "code",
   "execution_count": 236,
   "metadata": {},
   "outputs": [
    {
     "data": {
      "text/html": [
       "<div>\n",
       "<style scoped>\n",
       "    .dataframe tbody tr th:only-of-type {\n",
       "        vertical-align: middle;\n",
       "    }\n",
       "\n",
       "    .dataframe tbody tr th {\n",
       "        vertical-align: top;\n",
       "    }\n",
       "\n",
       "    .dataframe thead th {\n",
       "        text-align: right;\n",
       "    }\n",
       "</style>\n",
       "<table border=\"1\" class=\"dataframe\">\n",
       "  <thead>\n",
       "    <tr style=\"text-align: right;\">\n",
       "      <th></th>\n",
       "      <th>values</th>\n",
       "    </tr>\n",
       "  </thead>\n",
       "  <tbody>\n",
       "    <tr>\n",
       "      <th>R</th>\n",
       "      <td>4900</td>\n",
       "    </tr>\n",
       "    <tr>\n",
       "      <th>C</th>\n",
       "      <td>1e-06</td>\n",
       "    </tr>\n",
       "    <tr>\n",
       "      <th>vin</th>\n",
       "      <td>0.0000    0.000000\n",
       "0.0002    0.000120\n",
       "0.0004  ...</td>\n",
       "    </tr>\n",
       "  </tbody>\n",
       "</table>\n",
       "</div>"
      ],
      "text/plain": [
       "R                                                   4900\n",
       "C                                                  1e-06\n",
       "vin    0.0000    0.000000\n",
       "0.0002    0.000120\n",
       "0.0004  ...\n",
       "dtype: object"
      ]
     },
     "execution_count": 236,
     "metadata": {},
     "output_type": "execute_result"
    }
   ],
   "source": [
    "params4 = Params(\n",
    "    R = 4.9e3,   # ohm\n",
    "    C = 1e-6,  # farad\n",
    "    vin = results3.V_out\n",
    ")"
   ]
  },
  {
   "cell_type": "code",
   "execution_count": 237,
   "metadata": {},
   "outputs": [
    {
     "data": {
      "text/html": [
       "<div>\n",
       "<style scoped>\n",
       "    .dataframe tbody tr th:only-of-type {\n",
       "        vertical-align: middle;\n",
       "    }\n",
       "\n",
       "    .dataframe tbody tr th {\n",
       "        vertical-align: top;\n",
       "    }\n",
       "\n",
       "    .dataframe thead th {\n",
       "        text-align: right;\n",
       "    }\n",
       "</style>\n",
       "<table border=\"1\" class=\"dataframe\">\n",
       "  <thead>\n",
       "    <tr style=\"text-align: right;\">\n",
       "      <th></th>\n",
       "      <th>values</th>\n",
       "    </tr>\n",
       "  </thead>\n",
       "  <tbody>\n",
       "    <tr>\n",
       "      <th>R</th>\n",
       "      <td>4900</td>\n",
       "    </tr>\n",
       "    <tr>\n",
       "      <th>C</th>\n",
       "      <td>1e-06</td>\n",
       "    </tr>\n",
       "    <tr>\n",
       "      <th>A</th>\n",
       "      <td>5</td>\n",
       "    </tr>\n",
       "    <tr>\n",
       "      <th>f</th>\n",
       "      <td>50</td>\n",
       "    </tr>\n",
       "    <tr>\n",
       "      <th>init</th>\n",
       "      <td>V_out    0\n",
       "dtype: int64</td>\n",
       "    </tr>\n",
       "    <tr>\n",
       "      <th>t_end</th>\n",
       "      <td>0.08</td>\n",
       "    </tr>\n",
       "    <tr>\n",
       "      <th>ts</th>\n",
       "      <td>[0.0, 0.0002, 0.0004, 0.0006000000000000001, 0...</td>\n",
       "    </tr>\n",
       "    <tr>\n",
       "      <th>omega</th>\n",
       "      <td>314.159</td>\n",
       "    </tr>\n",
       "    <tr>\n",
       "      <th>tau</th>\n",
       "      <td>0.0049</td>\n",
       "    </tr>\n",
       "    <tr>\n",
       "      <th>cutoff</th>\n",
       "      <td>32.4806</td>\n",
       "    </tr>\n",
       "    <tr>\n",
       "      <th>vin</th>\n",
       "      <td>0.0000    0.000000\n",
       "0.0002    0.000120\n",
       "0.0004  ...</td>\n",
       "    </tr>\n",
       "  </tbody>\n",
       "</table>\n",
       "</div>"
      ],
      "text/plain": [
       "R                                                      4900\n",
       "C                                                     1e-06\n",
       "A                                                         5\n",
       "f                                                        50\n",
       "init                                V_out    0\n",
       "dtype: int64\n",
       "t_end                                                  0.08\n",
       "ts        [0.0, 0.0002, 0.0004, 0.0006000000000000001, 0...\n",
       "omega                                               314.159\n",
       "tau                                                  0.0049\n",
       "cutoff                                              32.4806\n",
       "vin       0.0000    0.000000\n",
       "0.0002    0.000120\n",
       "0.0004  ...\n",
       "dtype: object"
      ]
     },
     "execution_count": 237,
     "metadata": {},
     "output_type": "execute_result"
    }
   ],
   "source": [
    "system4 = make_system(params4)"
   ]
  },
  {
   "cell_type": "code",
   "execution_count": 238,
   "metadata": {},
   "outputs": [],
   "source": [
    "results4, details4 = run_ode_solver(system4, slope_func_low_pass, t_eval=system4.ts)"
   ]
  },
  {
   "cell_type": "code",
   "execution_count": 239,
   "metadata": {},
   "outputs": [
    {
     "data": {
      "image/png": "[encoded data removed]",
      "text/plain": [
       "<Figure size 432x288 with 1 Axes>"
      ]
     },
     "metadata": {},
     "output_type": "display_data"
    }
   ],
   "source": [
    "plot_results(results1)\n",
    "plot_results(results2)\n",
    "plot_results(results3)\n",
    "plot_results(results4)"
   ]
  },
  {
   "cell_type": "code",
   "execution_count": 240,
   "metadata": {},
   "outputs": [
    {
     "data": {
      "text/plain": [
       "<matplotlib.legend.Legend at 0x1ec1691a358>"
      ]
     },
     "execution_count": 240,
     "metadata": {},
     "output_type": "execute_result"
    },
    {
     "data": {
      "image/png": "[encoded data removed]",
      "text/plain": [
       "<Figure size 432x288 with 1 Axes>"
      ]
     },
     "metadata": {},
     "output_type": "display_data"
    }
   ],
   "source": [
    "#plt.xkcd()\n",
    "plot_results(results4)\n",
    "plt.plot(x, v)\n",
    "plt.legend([\"Filtered Signal\", \"Input Signal\"], loc='upper right', bbox_to_anchor=(1.35, 1))"
   ]
  },
  {
   "cell_type": "code",
   "execution_count": 124,
   "metadata": {},
   "outputs": [
    {
     "data": {
      "text/html": [
       "<div>\n",
       "<style scoped>\n",
       "    .dataframe tbody tr th:only-of-type {\n",
       "        vertical-align: middle;\n",
       "    }\n",
       "\n",
       "    .dataframe tbody tr th {\n",
       "        vertical-align: top;\n",
       "    }\n",
       "\n",
       "    .dataframe thead th {\n",
       "        text-align: right;\n",
       "    }\n",
       "</style>\n",
       "<table border=\"1\" class=\"dataframe\">\n",
       "  <thead>\n",
       "    <tr style=\"text-align: right;\">\n",
       "      <th></th>\n",
       "      <th>values</th>\n",
       "    </tr>\n",
       "  </thead>\n",
       "  <tbody>\n",
       "    <tr>\n",
       "      <th>R1</th>\n",
       "      <td>4900</td>\n",
       "    </tr>\n",
       "    <tr>\n",
       "      <th>C1</th>\n",
       "      <td>1e-06</td>\n",
       "    </tr>\n",
       "    <tr>\n",
       "      <th>vin2</th>\n",
       "      <td>0.00    0.000000\n",
       "0.02    4.908877\n",
       "0.04    4.96...</td>\n",
       "    </tr>\n",
       "    <tr>\n",
       "      <th>R2</th>\n",
       "      <td>100000</td>\n",
       "    </tr>\n",
       "    <tr>\n",
       "      <th>C2</th>\n",
       "      <td>1e-06</td>\n",
       "    </tr>\n",
       "    <tr>\n",
       "      <th>vin3</th>\n",
       "      <td>0.00    0.000000\n",
       "0.02    0.140523\n",
       "0.04    0.42...</td>\n",
       "    </tr>\n",
       "    <tr>\n",
       "      <th>R3</th>\n",
       "      <td>499</td>\n",
       "    </tr>\n",
       "    <tr>\n",
       "      <th>C3</th>\n",
       "      <td>1e-05</td>\n",
       "    </tr>\n",
       "    <tr>\n",
       "      <th>vin4</th>\n",
       "      <td>0.00    0.000000\n",
       "0.02    0.105790\n",
       "0.04    0.35...</td>\n",
       "    </tr>\n",
       "    <tr>\n",
       "      <th>R4</th>\n",
       "      <td>4900</td>\n",
       "    </tr>\n",
       "    <tr>\n",
       "      <th>C4</th>\n",
       "      <td>1e-06</td>\n",
       "    </tr>\n",
       "  </tbody>\n",
       "</table>\n",
       "</div>"
      ],
      "text/plain": [
       "R1                                                   4900\n",
       "C1                                                  1e-06\n",
       "vin2    0.00    0.000000\n",
       "0.02    4.908877\n",
       "0.04    4.96...\n",
       "R2                                                 100000\n",
       "C2                                                  1e-06\n",
       "vin3    0.00    0.000000\n",
       "0.02    0.140523\n",
       "0.04    0.42...\n",
       "R3                                                    499\n",
       "C3                                                  1e-05\n",
       "vin4    0.00    0.000000\n",
       "0.02    0.105790\n",
       "0.04    0.35...\n",
       "R4                                                   4900\n",
       "C4                                                  1e-06\n",
       "dtype: object"
      ]
     },
     "execution_count": 124,
     "metadata": {},
     "output_type": "execute_result"
    }
   ],
   "source": [
    "params_total = Params(\n",
    "    R1 = 4.9e3,   # ohm\n",
    "    C1 = 1e-6,  # farad\n",
    "    \n",
    "    vin2 = results1.V_out,\n",
    "    R2 = 100e3,   # ohm\n",
    "    C2 = 1e-6,  # farad\n",
    "    \n",
    "    vin3 = results2.V_out,\n",
    "    R3 = 499,   # ohm\n",
    "    C3 = 10e-6,  # farad\n",
    "    \n",
    "    vin4 = results3.V_out,\n",
    "    R4 = 4.9e3,   # ohm\n",
    "    C4 = 1e-6  # farad\n",
    ")"
   ]
  },
  {
   "cell_type": "code",
   "execution_count": 125,
   "metadata": {},
   "outputs": [],
   "source": [
    "def amp(R):\n",
    "    G = 1 + (100e3/R)\n",
    "    return G"
   ]
  },
  {
   "cell_type": "code",
   "execution_count": 126,
   "metadata": {},
   "outputs": [],
   "source": [
    "G1 = amp(2e3)\n",
    "G2 = amp(4.9e3);"
   ]
  },
  {
   "cell_type": "code",
   "execution_count": 210,
   "metadata": {},
   "outputs": [],
   "source": [
    "def run_sim(input_freq, make_system, slope_func_init, slope_func_high_pass, slope_func_low_pass, G1, G2):\n",
    "    \n",
    "    params5 = Params(\n",
    "    R = 4.9e3,   # ohm\n",
    "    C = 1e-6,  # farad\n",
    "    A = 5 * G1,      # volt\n",
    "    f = input_freq.f,   # Hz\n",
    "    vin = 0\n",
    "    )\n",
    "    \n",
    "    system5 = make_system(params5)\n",
    "    results5, details5 = run_ode_solver(system5, slope_func_init, t_eval=system5.ts)\n",
    "    \n",
    "    params6 = Params(\n",
    "    R = 100e3,   # ohm\n",
    "    C = 1e-6,  # farad\n",
    "    vin = results5.V_out\n",
    "    )\n",
    "    \n",
    "    system6 = make_system(params6)\n",
    "    results6, details6 = run_ode_solver(system6, slope_func_high_pass, t_eval=system6.ts)\n",
    "    \n",
    "    params7 = Params(\n",
    "    R = 499,   # ohm\n",
    "    C = 10e-6,  # farad\n",
    "    vin = results6.V_out * G2\n",
    "    )\n",
    "    \n",
    "    system7 = make_system(params7)\n",
    "    results7, details7 = run_ode_solver(system7, slope_func_low_pass, t_eval=system7.ts)\n",
    "    \n",
    "    params8 = Params(\n",
    "    R = 4.9e3,   # ohm\n",
    "    C = 1e-6,  # farad\n",
    "    vin = results7.V_out\n",
    "    )\n",
    "    \n",
    "    system8 = make_system(params8)\n",
    "    results8, details8 = run_ode_solver(system8, slope_func_low_pass, t_eval=system8.ts)\n",
    "    \n",
    "    A_in = params5.A\n",
    "    \n",
    "    A_out=(results8.V_out.max()-results8.V_out.min())/2\n",
    "        \n",
    "    ratio = A_out/A_in\n",
    "    \n",
    "    return State(results5=results5, results6=results6, result7=results7, results8=results8, ratio=ratio)"
   ]
  },
  {
   "cell_type": "code",
   "execution_count": 211,
   "metadata": {},
   "outputs": [],
   "source": [
    "input_freq.f = 50"
   ]
  },
  {
   "cell_type": "code",
   "execution_count": 212,
   "metadata": {},
   "outputs": [],
   "source": [
    "results5, results6, results7, results8, ratio = run_sim(input_freq, make_system, slope_func_init, slope_func_high_pass, slope_func_low_pass, G1, G2)"
   ]
  },
  {
   "cell_type": "code",
   "execution_count": 213,
   "metadata": {},
   "outputs": [
    {
     "data": {
      "image/png": "[encoded data removed]",
      "text/plain": [
       "<Figure size 432x288 with 1 Axes>"
      ]
     },
     "metadata": {},
     "output_type": "display_data"
    }
   ],
   "source": [
    "plot_results(results5)\n",
    "plot_results(results6)\n",
    "plot_results(results7)\n",
    "plot_results(results8)"
   ]
  },
  {
   "cell_type": "code",
   "execution_count": 214,
   "metadata": {},
   "outputs": [],
   "source": [
    "sweep = SweepSeries()\n",
    "for f in linspace(0.5, 100, 50):\n",
    "    input_freq.f=f\n",
    "    state = run_sim(input_freq, make_system, slope_func_init, slope_func_high_pass, slope_func_low_pass, G1, G2).ratio\n",
    "    sweep[f] = state;"
   ]
  },
  {
   "cell_type": "code",
   "execution_count": 215,
   "metadata": {},
   "outputs": [
    {
     "name": "stdout",
     "output_type": "stream",
     "text": [
      "0.500000      15.233031\n",
      "2.530612      15.087256\n",
      "4.561224      14.787505\n",
      "6.591837      14.335391\n",
      "8.622449      13.761977\n",
      "10.653061     13.090916\n",
      "12.683673     12.347997\n",
      "14.714286     11.572733\n",
      "16.744898     10.786299\n",
      "18.775510     10.006409\n",
      "20.806122      9.247044\n",
      "22.836735      8.528039\n",
      "24.867347      7.841628\n",
      "26.897959      7.204132\n",
      "28.928571      6.613908\n",
      "30.959184      6.065120\n",
      "32.989796      5.561387\n",
      "35.020408      5.102149\n",
      "37.051020      4.681487\n",
      "39.081633      4.295267\n",
      "41.112245      3.945844\n",
      "43.142857      3.629406\n",
      "45.173469      3.338143\n",
      "47.204082      3.072500\n",
      "49.234694      2.830819\n",
      "51.265306      2.611768\n",
      "53.295918      2.434379\n",
      "55.326531      2.278786\n",
      "57.357143      2.136585\n",
      "59.387755      2.003929\n",
      "61.418367      1.879934\n",
      "63.448980      1.766313\n",
      "65.479592      1.661576\n",
      "67.510204      1.561637\n",
      "69.540816      1.471908\n",
      "71.571429      1.386281\n",
      "73.602041      1.307405\n",
      "75.632653      1.232931\n",
      "77.663265      1.164202\n",
      "79.693878      1.099993\n",
      "81.724490      1.040250\n",
      "83.755102      0.983307\n",
      "85.785714      0.931161\n",
      "87.816327      0.885766\n",
      "89.846939      0.847330\n",
      "91.877551      0.811324\n",
      "93.908163      0.777545\n",
      "95.938776      0.746238\n",
      "97.969388      0.715857\n",
      "100.000000     0.687670\n",
      "dtype: float64\n"
     ]
    },
    {
     "data": {
      "image/png": "[encoded data removed]",
      "text/plain": [
       "<Figure size 432x288 with 1 Axes>"
      ]
     },
     "metadata": {},
     "output_type": "display_data"
    }
   ],
   "source": [
    "plot(sweep)\n",
    "decorate(xlabel='Frequency (Hz)',\n",
    "             ylabel='Amplitude',\n",
    "             xscale='log',\n",
    "             yscale='log')\n",
    "\n",
    "print(sweep)"
   ]
  },
  {
   "cell_type": "code",
   "execution_count": 216,
   "metadata": {},
   "outputs": [
    {
     "name": "stdout",
     "output_type": "stream",
     "text": [
      "    Frequency  Amplitude1  Amplitude2\n",
      "0    1.204622    1.336704    7.892721\n",
      "1    1.394753    2.062281    7.447578\n",
      "2    1.614894    2.720442    6.957306\n",
      "3    1.869782    3.309978    6.506548\n",
      "4    2.164899    3.832494    6.041254\n",
      "5    2.506597    4.289950    5.543557\n",
      "6    2.902226    4.685360    5.103302\n",
      "7    3.360299    5.021772    4.687570\n",
      "8    3.890673    5.305573    4.287470\n",
      "9    4.504759    5.534682    3.906275\n",
      "10   5.215768    5.710039    3.533519\n",
      "11   6.039000    5.834386    3.155440\n",
      "12   6.992167    5.909790    2.756838\n",
      "13   8.095778    5.936137    2.324386\n",
      "14   9.373577    5.912632    1.843787\n",
      "15  10.853058    5.834932    1.306494\n",
      "16  12.566053    5.702385    0.701586\n",
      "17  14.549419    5.513495    0.023472\n",
      "18  16.845831    5.264004   -0.726697\n",
      "19  19.504696    4.946740   -1.541431\n",
      "20  22.583225    4.554394   -2.408142\n",
      "21  26.147654    4.080540   -3.317242\n",
      "22  30.274676    3.520765   -4.257796\n",
      "23  35.053087    2.875092   -5.225047\n",
      "24  40.585699    2.145339   -6.203025\n",
      "25  46.991553    1.336644   -7.194759\n",
      "26  54.408477    0.455705   -8.204307\n",
      "27  62.996052   -0.488923   -9.210187\n",
      "28  72.939050   -1.488359  -10.235730\n",
      "29  84.451403   -2.535038  -11.283204\n",
      "30  97.780812   -3.619814  -12.382250\n"
     ]
    }
   ],
   "source": [
    "from pandas import read_csv\n",
    "data = read_csv(\"Bode Plot Data Two Channel Adjusted.csv\")\n",
    "data.columns = [\"Frequency\", \"Amplitude1\", \"Amplitude2\"]\n",
    "print(data)"
   ]
  },
  {
   "cell_type": "code",
   "execution_count": 217,
   "metadata": {},
   "outputs": [],
   "source": [
    "def plot_data(data):\n",
    "    f = (data.Frequency.index / 2 * np.pi)\n",
    "    a = (data.Amplitude2.values)\n",
    "       \n",
    "    plot(f, a)\n",
    "    decorate(xlabel='Frequency (Hz)',\n",
    "             ylabel='Amplitude',\n",
    "             xscale='log',\n",
    "             yscale='log',\n",
    "             title='Bode Plot Collected Data',\n",
    "             legend=False)"
   ]
  },
  {
   "cell_type": "code",
   "execution_count": 218,
   "metadata": {},
   "outputs": [
    {
     "data": {
      "image/png": "[encoded data removed]",
      "text/plain": [
       "<Figure size 432x288 with 1 Axes>"
      ]
     },
     "metadata": {},
     "output_type": "display_data"
    }
   ],
   "source": [
    "plot_data(data)"
   ]
  },
  {
   "cell_type": "code",
   "execution_count": 219,
   "metadata": {},
   "outputs": [
    {
     "data": {
      "image/png": "[encoded data removed]",
      "text/plain": [
       "<Figure size 432x288 with 1 Axes>"
      ]
     },
     "metadata": {},
     "output_type": "display_data"
    }
   ],
   "source": [
    "plot(sweep)\n",
    "decorate(xlabel='Frequency (Hz)',\n",
    "             ylabel='Amplitude',\n",
    "             title='Bode Plot Simulated VS Collected Data')\n",
    "plot_data(data)"
   ]
  },
  {
   "cell_type": "code",
   "execution_count": null,
   "metadata": {},
   "outputs": [],
   "source": []
  }
 ],
 "metadata": {
  "kernelspec": {
   "display_name": "Python 3",
   "language": "python",
   "name": "python3"
  },
  "language_info": {
   "codemirror_mode": {
    "name": "ipython",
    "version": 3
   },
   "file_extension": ".py",
   "mimetype": "text/x-python",
   "name": "python",
   "nbconvert_exporter": "python",
   "pygments_lexer": "ipython3",
   "version": "3.6.5"
  }
 },
 "nbformat": 4,
 "nbformat_minor": 2
}
