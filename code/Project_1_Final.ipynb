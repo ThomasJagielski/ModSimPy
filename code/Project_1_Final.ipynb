{
 "cells": [
  {
   "cell_type": "code",
   "execution_count": 44,
   "metadata": {},
   "outputs": [],
   "source": [
    "# Configure Jupyter so figures appear in the notebook\n",
    "%matplotlib inline\n",
    "\n",
    "# Configure Jupyter to display the assigned value after an assignment\n",
    "%config InteractiveShell.ast_node_interactivity='last_expr_or_assign'\n",
    "\n",
    "# import functions from the modsim.py module\n",
    "from modsim import *"
   ]
  },
  {
   "cell_type": "markdown",
   "metadata": {},
   "source": [
    "# What does the death rate of moose need to be to have a positive trend in Northeastern Minnesotan moose population?"
   ]
  },
  {
   "cell_type": "markdown",
   "metadata": {},
   "source": [
    "To make this model the following assumptions were made:\n",
    "\n",
    "    -The birth rate of the moose remains constant (which is based on past data)\n",
    "    -Death rate remains constant year to year throughout simulation\n",
    "    -Moose population will not correct itself organically"
   ]
  },
  {
   "cell_type": "markdown",
   "metadata": {},
   "source": [
    "The following data collected from the Minnesota DNR: https://files.dnr.state.mn.us/wildlife/moose/moosesurvey.pdf"
   ]
  },
  {
   "cell_type": "code",
   "execution_count": 45,
   "metadata": {},
   "outputs": [],
   "source": [
    "population = [8160, 8840, 6860, 7890, 7840, 5700, 4900, 4230, 2760, 4350, 3450, 4020, 3710, 3030];"
   ]
  },
  {
   "cell_type": "code",
   "execution_count": 46,
   "metadata": {},
   "outputs": [],
   "source": [
    "years = range(2005,2019);"
   ]
  },
  {
   "cell_type": "markdown",
   "metadata": {},
   "source": [
    "We then put the data into the TimeSeries, so it is easier to work with."
   ]
  },
  {
   "cell_type": "code",
   "execution_count": 47,
   "metadata": {},
   "outputs": [
    {
     "data": {
      "text/html": [
       "<div>\n",
       "<style scoped>\n",
       "    .dataframe tbody tr th:only-of-type {\n",
       "        vertical-align: middle;\n",
       "    }\n",
       "\n",
       "    .dataframe tbody tr th {\n",
       "        vertical-align: top;\n",
       "    }\n",
       "\n",
       "    .dataframe thead th {\n",
       "        text-align: right;\n",
       "    }\n",
       "</style>\n",
       "<table border=\"1\" class=\"dataframe\">\n",
       "  <thead>\n",
       "    <tr style=\"text-align: right;\">\n",
       "      <th></th>\n",
       "      <th>values</th>\n",
       "    </tr>\n",
       "  </thead>\n",
       "  <tbody>\n",
       "    <tr>\n",
       "      <th>2005</th>\n",
       "      <td>8160.0</td>\n",
       "    </tr>\n",
       "    <tr>\n",
       "      <th>2006</th>\n",
       "      <td>8840.0</td>\n",
       "    </tr>\n",
       "    <tr>\n",
       "      <th>2007</th>\n",
       "      <td>6860.0</td>\n",
       "    </tr>\n",
       "    <tr>\n",
       "      <th>2008</th>\n",
       "      <td>7890.0</td>\n",
       "    </tr>\n",
       "    <tr>\n",
       "      <th>2009</th>\n",
       "      <td>7840.0</td>\n",
       "    </tr>\n",
       "    <tr>\n",
       "      <th>2010</th>\n",
       "      <td>5700.0</td>\n",
       "    </tr>\n",
       "    <tr>\n",
       "      <th>2011</th>\n",
       "      <td>4900.0</td>\n",
       "    </tr>\n",
       "    <tr>\n",
       "      <th>2012</th>\n",
       "      <td>4230.0</td>\n",
       "    </tr>\n",
       "    <tr>\n",
       "      <th>2013</th>\n",
       "      <td>2760.0</td>\n",
       "    </tr>\n",
       "    <tr>\n",
       "      <th>2014</th>\n",
       "      <td>4350.0</td>\n",
       "    </tr>\n",
       "    <tr>\n",
       "      <th>2015</th>\n",
       "      <td>3450.0</td>\n",
       "    </tr>\n",
       "    <tr>\n",
       "      <th>2016</th>\n",
       "      <td>4020.0</td>\n",
       "    </tr>\n",
       "    <tr>\n",
       "      <th>2017</th>\n",
       "      <td>3710.0</td>\n",
       "    </tr>\n",
       "    <tr>\n",
       "      <th>2018</th>\n",
       "      <td>3030.0</td>\n",
       "    </tr>\n",
       "  </tbody>\n",
       "</table>\n",
       "</div>"
      ],
      "text/plain": [
       "2005    8160.0\n",
       "2006    8840.0\n",
       "2007    6860.0\n",
       "2008    7890.0\n",
       "2009    7840.0\n",
       "2010    5700.0\n",
       "2011    4900.0\n",
       "2012    4230.0\n",
       "2013    2760.0\n",
       "2014    4350.0\n",
       "2015    3450.0\n",
       "2016    4020.0\n",
       "2017    3710.0\n",
       "2018    3030.0\n",
       "dtype: float64"
      ]
     },
     "execution_count": 47,
     "metadata": {},
     "output_type": "execute_result"
    }
   ],
   "source": [
    "population_series = TimeSeries(population, index = years, dtype = float)"
   ]
  },
  {
   "cell_type": "markdown",
   "metadata": {},
   "source": [
    "Create a fucntion to calculate the average birth rate over time.  This was calculated using the assumption of a 25% death rate.  This value is from a New York Times article: https://www.nytimes.com/2013/10/15/science/earth/something-is-killing-off-the-moose.html"
   ]
  },
  {
   "cell_type": "code",
   "execution_count": 48,
   "metadata": {},
   "outputs": [
    {
     "name": "stdout",
     "output_type": "stream",
     "text": [
      "0.18782875308272756\n"
     ]
    }
   ],
   "source": [
    "def birth_rate(population):\n",
    "    \"\"\"\n",
    "    Find the average birth rate over the interval data was collected.  This is based on the assumption the death rate was 25%.\n",
    "    \n",
    "    population: Values of moose population given by the Minnesota DNR\n",
    "    \n",
    "    returns: The average birth rate in the range of 2005-2018 assuming a 25% death rate\n",
    "    \"\"\"\n",
    "    #initialize sum to zero\n",
    "    sum=0\n",
    "    #create a for loop to find the sum of all values, this is then used to find an average\n",
    "    for i in range(13):\n",
    "        birth = population[i+1]/population[i]-0.75\n",
    "        sum = sum + birth\n",
    "        #print(sum)\n",
    "    avgbirth = sum/14\n",
    "    return avgbirth\n",
    "\n",
    "#returns the average birth rate over 2005-2018 interval\n",
    "\n",
    "avgbirth = birth_rate(population)\n",
    "print(avgbirth)"
   ]
  },
  {
   "cell_type": "markdown",
   "metadata": {},
   "source": [
    "Create a function for the line of best fit to show the trend of the moose population over time."
   ]
  },
  {
   "cell_type": "code",
   "execution_count": 49,
   "metadata": {},
   "outputs": [],
   "source": [
    "def best_fit():\n",
    "    \"\"\"Find line of best fit for data to show the general trend over time.\n",
    "    \n",
    "    returns: A TimeSeries with corresponding values that are outputs of the function\n",
    "    \"\"\"\n",
    "    t = TimeSeries()\n",
    "    #for loop is used to determine the values of the function at each corresponding x value.\n",
    "    for x in (0, 2050):\n",
    "        y = (-454.286*x) + 919206\n",
    "        t[x] = y\n",
    "    return t"
   ]
  },
  {
   "cell_type": "markdown",
   "metadata": {},
   "source": [
    "Create a scatter plot of the past data by year and plot a line of best fit for the data, which shows the overall negative trend."
   ]
  },
  {
   "cell_type": "code",
   "execution_count": 50,
   "metadata": {},
   "outputs": [
    {
     "data": {
      "image/png": "[encoded data removed]",
      "text/plain": [
       "<Figure size 432x288 with 1 Axes>"
      ]
     },
     "metadata": {},
     "output_type": "display_data"
    }
   ],
   "source": [
    "def population_graph(series):\n",
    "    plot(series,'*', label='Population Estimates')\n",
    "    plot(best_fit(), \"purple\", label='Population Trend')\n",
    "    decorate(xlabel = 'Year',\n",
    "           ylabel = 'Estimated Population',\n",
    "           title = 'Population Estimate by Year')\n",
    "    plt.ylim([0, 10000]);\n",
    "    plt.xlim([2005, 2025]);\n",
    "    \n",
    "population_graph(population_series)"
   ]
  },
  {
   "cell_type": "markdown",
   "metadata": {},
   "source": [
    "These are the input parameters for the simulation we will run."
   ]
  },
  {
   "cell_type": "code",
   "execution_count": 51,
   "metadata": {},
   "outputs": [],
   "source": [
    "#initialize parameters to set as a system object\n",
    "time_initial = 2018;\n",
    "moose = population_series[time_initial];\n",
    "birth_rate = avgbirth;\n",
    "duration = 15;"
   ]
  },
  {
   "cell_type": "markdown",
   "metadata": {},
   "source": [
    "We create system objects to input into the update and simulation functions.  This makes the code more universal by allowing us  to change values more universally."
   ]
  },
  {
   "cell_type": "code",
   "execution_count": 52,
   "metadata": {},
   "outputs": [
    {
     "data": {
      "text/html": [
       "<div>\n",
       "<style scoped>\n",
       "    .dataframe tbody tr th:only-of-type {\n",
       "        vertical-align: middle;\n",
       "    }\n",
       "\n",
       "    .dataframe tbody tr th {\n",
       "        vertical-align: top;\n",
       "    }\n",
       "\n",
       "    .dataframe thead th {\n",
       "        text-align: right;\n",
       "    }\n",
       "</style>\n",
       "<table border=\"1\" class=\"dataframe\">\n",
       "  <thead>\n",
       "    <tr style=\"text-align: right;\">\n",
       "      <th></th>\n",
       "      <th>values</th>\n",
       "    </tr>\n",
       "  </thead>\n",
       "  <tbody>\n",
       "    <tr>\n",
       "      <th>time_initial</th>\n",
       "      <td>2018.000000</td>\n",
       "    </tr>\n",
       "    <tr>\n",
       "      <th>moose</th>\n",
       "      <td>3030.000000</td>\n",
       "    </tr>\n",
       "    <tr>\n",
       "      <th>birth_rate</th>\n",
       "      <td>0.187829</td>\n",
       "    </tr>\n",
       "    <tr>\n",
       "      <th>duration</th>\n",
       "      <td>15.000000</td>\n",
       "    </tr>\n",
       "  </tbody>\n",
       "</table>\n",
       "</div>"
      ],
      "text/plain": [
       "time_initial    2018.000000\n",
       "moose           3030.000000\n",
       "birth_rate         0.187829\n",
       "duration          15.000000\n",
       "dtype: float64"
      ]
     },
     "execution_count": 52,
     "metadata": {},
     "output_type": "execute_result"
    }
   ],
   "source": [
    "system = System(time_initial=time_initial,\n",
    "               moose=moose,\n",
    "               birth_rate=birth_rate,\n",
    "               duration=duration)"
   ]
  },
  {
   "cell_type": "markdown",
   "metadata": {},
   "source": [
    "We use linspace to create an array of death rates used by the simulation. \n",
    "\n",
    "We use 8% and 25% as the extremities.  These values were noted by a New York Times article referenced earlier, which showed that 8% was the minimum death rate and 25% for moose in Northeastern Minnesota."
   ]
  },
  {
   "cell_type": "code",
   "execution_count": 53,
   "metadata": {},
   "outputs": [
    {
     "name": "stdout",
     "output_type": "stream",
     "text": [
      "0    0.0800\n",
      "1    0.1225\n",
      "2    0.1650\n",
      "3    0.2075\n",
      "4    0.2500\n",
      "dtype: float64\n"
     ]
    }
   ],
   "source": [
    "#create death rate values for sweep\n",
    "death_rate = linspace(0.08, 0.25, 5)\n",
    "#put the values of death_rate into a timeseries\n",
    "drArray = TimeSeries()\n",
    "#initialize array to assign index values to values\n",
    "num = 0\n",
    "#place values into an array of death rate values with corresponding index values\n",
    "for temp in death_rate:\n",
    "    drArray[num] = temp\n",
    "    num += 1\n",
    "    \n",
    "print(drArray)"
   ]
  },
  {
   "cell_type": "markdown",
   "metadata": {},
   "source": [
    "Define a new update function which will determine the growth from year to year.  A calculation is made based on the previous year."
   ]
  },
  {
   "cell_type": "code",
   "execution_count": 54,
   "metadata": {},
   "outputs": [],
   "source": [
    "def update_func(pop, t, system, i, deathrate):\n",
    "    \"\"\"Create an update function that will return new populations based on the change per year.\n",
    "    \n",
    "    pop: the new population value\n",
    "    t: index of the for loop in the run_simulation function\n",
    "    system: System object\n",
    "    i: index of death rate to test\n",
    "    deathrate: the deathrate for which we are testing\n",
    "    \n",
    "    returns: new population\n",
    "    \"\"\"\n",
    "    net_growth = ((system.birth_rate - deathrate) * pop)\n",
    "    return pop + net_growth"
   ]
  },
  {
   "cell_type": "markdown",
   "metadata": {},
   "source": [
    "Create a simulation function that will go through and determine the population by year.  This data will be returned into a TimeSeries named results."
   ]
  },
  {
   "cell_type": "code",
   "execution_count": 55,
   "metadata": {},
   "outputs": [],
   "source": [
    "def run_simulation(system, update_func, drArray):\n",
    "    \"\"\"Simulate moose populations using any update function.\n",
    "    \n",
    "    system: System object\n",
    "    update_func: function that computes the population next year\n",
    "    \n",
    "    returns: TimeSeries\n",
    "    \"\"\"\n",
    "    #for i in range(c):\n",
    "    results = TimeSeries()\n",
    "    results[system.time_initial] = system.moose\n",
    "    \n",
    "    for t in linrange(system.time_initial, system.time_initial + system.duration):\n",
    "        results[t+1] = update_func(results[t], t, system, i, drArray)\n",
    "        \n",
    "    return results"
   ]
  },
  {
   "cell_type": "markdown",
   "metadata": {},
   "source": [
    "Run the simulation using the various death rates and plot the result for each rate.  It is plotted on graph showing the next 15 years, as it will show the trend over time.\n",
    "\n",
    "*Note: each of the legend values are death rates in percents."
   ]
  },
  {
   "cell_type": "code",
   "execution_count": 56,
   "metadata": {},
   "outputs": [
    {
     "data": {
      "image/png": "[encoded data removed]",
      "text/plain": [
       "<Figure size 432x288 with 1 Axes>"
      ]
     },
     "metadata": {},
     "output_type": "display_data"
    }
   ],
   "source": [
    "#Use for loop to run through the simulation using different values as the death rate\n",
    "for i in range(0, 5):\n",
    "    #plot the results of each simulation on a graph showing the next 15 years\n",
    "    plot(run_simulation(system, update_func, drArray[i]), label = drArray[i] * 100)\n",
    "    decorate(xlabel = 'Year',\n",
    "        ylabel = 'Estimated Population',\n",
    "        title = 'Population Estimate by Year')"
   ]
  },
  {
   "cell_type": "markdown",
   "metadata": {},
   "source": [
    "Per the results of the graph, we are shown that the a death rate of roughly 16.5% shows the first upward trend in moose population for the rates we tested.  However, we can make the assumption that the death rate could be slightly less than 16% and still yield a upward trend in moose population.  Due to this, to save the moose population in Northeastern Minnesota, we need to reduce the death rate of the moose to ~16% in the coming years.  Although this model does not provide an explicit plan of action, a reduced death rate would alleviate the risk of moose going extinct in Northeastern Minnesota - as shown through this model.  To account for all the death rate factors, many parameters would have been needed.  However, two of the largest factors are ticks and wolves, which are difficult to model due to their variation year to year.  Thus, these are a critical aspect to consider when minimizing moose death rate. "
   ]
  },
  {
   "cell_type": "code",
   "execution_count": null,
   "metadata": {},
   "outputs": [],
   "source": []
  }
 ],
 "metadata": {
  "kernelspec": {
   "display_name": "Python 3",
   "language": "python",
   "name": "python3"
  },
  "language_info": {
   "codemirror_mode": {
    "name": "ipython",
    "version": 3
   },
   "file_extension": ".py",
   "mimetype": "text/x-python",
   "name": "python",
   "nbconvert_exporter": "python",
   "pygments_lexer": "ipython3",
   "version": "3.6.5"
  }
 },
 "nbformat": 4,
 "nbformat_minor": 2
}
